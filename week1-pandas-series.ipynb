{
 "cells": [
  {
   "cell_type": "markdown",
   "id": "874265a2-8e17-45fa-9127-1c025d3d7320",
   "metadata": {},
   "source": [
    "## Pandas Series Data Frames"
   ]
  },
  {
   "cell_type": "code",
   "execution_count": 2,
   "id": "11064bd4-2a4f-4563-9291-9e8bc491cee6",
   "metadata": {
    "tags": []
   },
   "outputs": [],
   "source": [
    "import pandas as pd\n",
    "import numpy as np"
   ]
  },
  {
   "cell_type": "markdown",
   "id": "64474a4c-1a1d-4488-a033-15518e08ebba",
   "metadata": {},
   "source": [
    "Create a numpy array"
   ]
  },
  {
   "cell_type": "code",
   "execution_count": 3,
   "id": "9d14c094-1711-4d8d-980d-85d078cde474",
   "metadata": {
    "tags": []
   },
   "outputs": [
    {
     "name": "stdout",
     "output_type": "stream",
     "text": [
      "<class 'numpy.ndarray'>\n",
      "[ 1.10577579 -0.59820492  0.00408366  0.56335478] /n\n",
      "<class 'pandas.core.series.Series'>\n",
      "0    1.105776\n",
      "1   -0.598205\n",
      "2    0.004084\n",
      "3    0.563355\n",
      "dtype: float64\n"
     ]
    }
   ],
   "source": [
    "# create random values from std normal distribution\n",
    "arr = np.random.randn(4)\n",
    "print(type(arr))\n",
    "print(arr, \"/n\")\n",
    "\n",
    "# A pandas series made from the array above\n",
    "s = pd.Series(arr)\n",
    "print(type(s))\n",
    "print(s)"
   ]
  },
  {
   "cell_type": "markdown",
   "id": "b4e92659-3d48-4b91-a457-a4d75034569c",
   "metadata": {},
   "source": [
    "Notice that the index is included in a Panda series. Although the array can be indexed, the index is not part of it's data structure."
   ]
  },
  {
   "cell_type": "code",
   "execution_count": 4,
   "id": "daf27709-5ccd-4e24-b3cc-09a3daa02224",
   "metadata": {
    "tags": []
   },
   "outputs": [
    {
     "data": {
      "text/plain": [
       "2023    0\n",
       "2024    1\n",
       "2025    2\n",
       "dtype: int64"
      ]
     },
     "execution_count": 4,
     "metadata": {},
     "output_type": "execute_result"
    }
   ],
   "source": [
    "# creating a pandas series from a NumPy array\n",
    "pd.Series(np.arange(3), index = [2023, 2024, 2025])\n"
   ]
  },
  {
   "cell_type": "code",
   "execution_count": 5,
   "id": "2c01bb80-2d27-48bc-ad80-1bc8230bf963",
   "metadata": {
    "tags": []
   },
   "outputs": [
    {
     "data": {
      "text/plain": [
       "0    EDS 220\n",
       "1    EDS 222\n",
       "2    EDS 223\n",
       "3    EDS 242\n",
       "dtype: object"
      ]
     },
     "execution_count": 5,
     "metadata": {},
     "output_type": "execute_result"
    }
   ],
   "source": [
    "# A series from a list of strings with default index\n",
    "pd.Series(['EDS 220', 'EDS 222', 'EDS 223', 'EDS 242'])"
   ]
  },
  {
   "cell_type": "code",
   "execution_count": 14,
   "id": "2eafd6f1-13dd-423b-bfe6-1357649c90a0",
   "metadata": {},
   "outputs": [
    {
     "name": "stdout",
     "output_type": "stream",
     "text": [
      "key_0    2\n",
      "key_1    3\n",
      "key_2    5\n",
      "dtype: int64\n",
      "int64\n"
     ]
    }
   ],
   "source": [
    "# Create a pandas.Series from a dictionary\n",
    "\n",
    "# Construct a dictionary - keys and values. ¿These values have the data type - 'dict'\n",
    "d = {'key_0':2, 'key_1':3, 'key_2':5}\n",
    "\n",
    "# Initialize a series using the dictionary\n",
    "print(pd.Series(d))\n",
    "s = pd.Series(d)\n",
    "s\n",
    "\n",
    "print(s.dtype)\n",
    "\n",
    "# Notice, if any '' are included around the numbers in the value portion\n",
    "# of the dictionary above, the data type of the series will be 'object'"
   ]
  },
  {
   "cell_type": "code",
   "execution_count": 15,
   "id": "ed451267-ca29-4f58-9945-40e8d8315d37",
   "metadata": {
    "tags": []
   },
   "outputs": [
    {
     "data": {
      "text/plain": [
       "A    3.0\n",
       "B    3.0\n",
       "C    3.0\n",
       "dtype: float64"
      ]
     },
     "execution_count": 15,
     "metadata": {},
     "output_type": "execute_result"
    }
   ],
   "source": [
    "# Create a pandas.Series from a single value\n",
    "pd.Series(3.0, index = ['A', 'B', 'C'])"
   ]
  },
  {
   "cell_type": "markdown",
   "id": "de300dc8-de7b-458b-8d9f-071691cb437a",
   "metadata": {},
   "source": [
    "# *Simple Operations*"
   ]
  },
  {
   "cell_type": "code",
   "execution_count": 23,
   "id": "0dd1a4e0-2af0-4220-ab75-f51b3bac66da",
   "metadata": {
    "tags": []
   },
   "outputs": [
    {
     "name": "stdout",
     "output_type": "stream",
     "text": [
      "Arnold       9.8\n",
      "Barney       7.3\n",
      "Crampston    6.5\n",
      "dtype: float64 \n",
      "\n",
      "Arnold       3.637971e+42\n",
      "Barney       5.052394e+31\n",
      "Crampston    1.694889e+28\n",
      "dtype: float64 \n",
      "\n",
      "ellow 148.4131591025766\n",
      "Arnold       98\n",
      "Barney       73\n",
      "Crampston    65\n",
      "dtype: int64\n"
     ]
    }
   ],
   "source": [
    "# Define a series\n",
    "z = pd.Series([98, 73, 65], index = ['Arnold', 'Barney', 'Crampston'])\n",
    "\n",
    "# Divide each element in series by 10\n",
    "print(z /10, '\\n')\n",
    "\n",
    "# Take the exponential (e^n) of each element in the series\n",
    "print(np.exp(z), '\\n')\n",
    "\n",
    "# Original series is unchanged\n",
    "print(z)"
   ]
  },
  {
   "cell_type": "code",
   "execution_count": 27,
   "id": "87f48f36-7c8f-4ad1-ba86-dd12e8471af7",
   "metadata": {
    "tags": []
   },
   "outputs": [
    {
     "name": "stdout",
     "output_type": "stream",
     "text": [
      "Arnold        True\n",
      "Barney        True\n",
      "Crampston    False\n",
      "dtype: bool\n",
      "Arnold       False\n",
      "Barney       False\n",
      "Crampston     True\n",
      "dtype: bool\n"
     ]
    }
   ],
   "source": [
    "# You can also produce new series with True/False values\n",
    "# based on whether elements in a series satisfy a condition or not\n",
    "\n",
    "print(z > 70)\n",
    "\n",
    "print(z < 70)\n",
    "\n",
    "# This is useful when selecting data from data frames"
   ]
  },
  {
   "cell_type": "markdown",
   "id": "9971cbdc-00dd-4d10-a301-c86806d0e3f3",
   "metadata": {},
   "source": [
    "# *Identifying missing values*"
   ]
  },
  {
   "cell_type": "code",
   "execution_count": 28,
   "id": "7d961c40-b527-4bcc-adf0-bb957f94d04e",
   "metadata": {
    "tags": []
   },
   "outputs": [
    {
     "data": {
      "text/plain": [
       "0    1.0\n",
       "1    2.0\n",
       "2    NaN\n",
       "3    4.0\n",
       "4    NaN\n",
       "dtype: float64"
      ]
     },
     "execution_count": 28,
     "metadata": {},
     "output_type": "execute_result"
    }
   ],
   "source": [
    "# Series with NAs in it\n",
    "na_s = pd.Series([1, 2, np.nan, 4, np.nan])\n",
    "\n",
    "na_s"
   ]
  },
  {
   "cell_type": "code",
   "execution_count": 30,
   "id": "c838c1b2-30e7-4f2d-bd54-3b21e92d516b",
   "metadata": {
    "tags": []
   },
   "outputs": [
    {
     "data": {
      "text/plain": [
       "True"
      ]
     },
     "execution_count": 30,
     "metadata": {},
     "output_type": "execute_result"
    }
   ],
   "source": [
    "# Cehck if series has NAs with hasnans\n",
    "na_s.hasnans"
   ]
  },
  {
   "cell_type": "code",
   "execution_count": 31,
   "id": "d556a3ae-e178-427c-8059-9544c9c957a1",
   "metadata": {
    "tags": []
   },
   "outputs": [
    {
     "data": {
      "text/plain": [
       "0    False\n",
       "1    False\n",
       "2     True\n",
       "3    False\n",
       "4     True\n",
       "dtype: bool"
      ]
     },
     "execution_count": 31,
     "metadata": {},
     "output_type": "execute_result"
    }
   ],
   "source": [
    "# Get a list of booleans with the isna() attribute\n",
    "na_s.isna()"
   ]
  },
  {
   "cell_type": "code",
   "execution_count": 11,
   "id": "8e936d49-d025-4da6-ad46-16adfecffa99",
   "metadata": {
    "tags": []
   },
   "outputs": [
    {
     "name": "stdout",
     "output_type": "stream",
     "text": [
      "A      1\n",
      "B   -999\n",
      "C      2\n",
      "D   -999\n",
      "dtype: int64\n"
     ]
    }
   ],
   "source": [
    "# Check-in Problem No. 1\n",
    "\n",
    "#1\n",
    "# Import pandas and numpy\n",
    "import pandas as pd\n",
    "import numpy as np\n",
    "\n",
    "# Create Pandas series called s\n",
    "s = pd.Series([1, -999, 2, -999], index = ['A', 'B', 'C', 'D'])\n",
    "\n",
    "print(s)"
   ]
  },
  {
   "cell_type": "code",
   "execution_count": 26,
   "id": "3d30411c-0e05-425c-9609-d11e6a1f36bf",
   "metadata": {
    "collapsed": true,
    "jupyter": {
     "outputs_hidden": true
    },
    "tags": []
   },
   "outputs": [
    {
     "data": {
      "text/plain": [
       "\u001b[0;31mSignature:\u001b[0m\n",
       "\u001b[0mpd\u001b[0m\u001b[0;34m.\u001b[0m\u001b[0mSeries\u001b[0m\u001b[0;34m.\u001b[0m\u001b[0mmask\u001b[0m\u001b[0;34m(\u001b[0m\u001b[0;34m\u001b[0m\n",
       "\u001b[0;34m\u001b[0m    \u001b[0mself\u001b[0m\u001b[0;34m,\u001b[0m\u001b[0;34m\u001b[0m\n",
       "\u001b[0;34m\u001b[0m    \u001b[0mcond\u001b[0m\u001b[0;34m,\u001b[0m\u001b[0;34m\u001b[0m\n",
       "\u001b[0;34m\u001b[0m    \u001b[0mother\u001b[0m\u001b[0;34m=\u001b[0m\u001b[0;34m<\u001b[0m\u001b[0mno_default\u001b[0m\u001b[0;34m>\u001b[0m\u001b[0;34m,\u001b[0m\u001b[0;34m\u001b[0m\n",
       "\u001b[0;34m\u001b[0m    \u001b[0;34m*\u001b[0m\u001b[0;34m,\u001b[0m\u001b[0;34m\u001b[0m\n",
       "\u001b[0;34m\u001b[0m    \u001b[0minplace\u001b[0m\u001b[0;34m:\u001b[0m \u001b[0;34m'bool_t'\u001b[0m \u001b[0;34m=\u001b[0m \u001b[0;32mFalse\u001b[0m\u001b[0;34m,\u001b[0m\u001b[0;34m\u001b[0m\n",
       "\u001b[0;34m\u001b[0m    \u001b[0maxis\u001b[0m\u001b[0;34m:\u001b[0m \u001b[0;34m'Axis | None'\u001b[0m \u001b[0;34m=\u001b[0m \u001b[0;32mNone\u001b[0m\u001b[0;34m,\u001b[0m\u001b[0;34m\u001b[0m\n",
       "\u001b[0;34m\u001b[0m    \u001b[0mlevel\u001b[0m\u001b[0;34m:\u001b[0m \u001b[0;34m'Level | None'\u001b[0m \u001b[0;34m=\u001b[0m \u001b[0;32mNone\u001b[0m\u001b[0;34m,\u001b[0m\u001b[0;34m\u001b[0m\n",
       "\u001b[0;34m\u001b[0m\u001b[0;34m)\u001b[0m \u001b[0;34m->\u001b[0m \u001b[0;34m'Self | None'\u001b[0m\u001b[0;34m\u001b[0m\u001b[0;34m\u001b[0m\u001b[0m\n",
       "\u001b[0;31mDocstring:\u001b[0m\n",
       "Replace values where the condition is True.\n",
       "\n",
       "Parameters\n",
       "----------\n",
       "cond : bool Series/DataFrame, array-like, or callable\n",
       "    Where `cond` is False, keep the original value. Where\n",
       "    True, replace with corresponding value from `other`.\n",
       "    If `cond` is callable, it is computed on the Series/DataFrame and\n",
       "    should return boolean Series/DataFrame or array. The callable must\n",
       "    not change input Series/DataFrame (though pandas doesn't check it).\n",
       "other : scalar, Series/DataFrame, or callable\n",
       "    Entries where `cond` is True are replaced with\n",
       "    corresponding value from `other`.\n",
       "    If other is callable, it is computed on the Series/DataFrame and\n",
       "    should return scalar or Series/DataFrame. The callable must not\n",
       "    change input Series/DataFrame (though pandas doesn't check it).\n",
       "    If not specified, entries will be filled with the corresponding\n",
       "    NULL value (``np.nan`` for numpy dtypes, ``pd.NA`` for extension\n",
       "    dtypes).\n",
       "inplace : bool, default False\n",
       "    Whether to perform the operation in place on the data.\n",
       "axis : int, default None\n",
       "    Alignment axis if needed. For `Series` this parameter is\n",
       "    unused and defaults to 0.\n",
       "level : int, default None\n",
       "    Alignment level if needed.\n",
       "\n",
       "Returns\n",
       "-------\n",
       "Same type as caller or None if ``inplace=True``.\n",
       "\n",
       "See Also\n",
       "--------\n",
       ":func:`DataFrame.where` : Return an object of same shape as\n",
       "    self.\n",
       "\n",
       "Notes\n",
       "-----\n",
       "The mask method is an application of the if-then idiom. For each\n",
       "element in the calling DataFrame, if ``cond`` is ``False`` the\n",
       "element is used; otherwise the corresponding element from the DataFrame\n",
       "``other`` is used. If the axis of ``other`` does not align with axis of\n",
       "``cond`` Series/DataFrame, the misaligned index positions will be filled with\n",
       "True.\n",
       "\n",
       "The signature for :func:`DataFrame.where` differs from\n",
       ":func:`numpy.where`. Roughly ``df1.where(m, df2)`` is equivalent to\n",
       "``np.where(m, df1, df2)``.\n",
       "\n",
       "For further details and examples see the ``mask`` documentation in\n",
       ":ref:`indexing <indexing.where_mask>`.\n",
       "\n",
       "The dtype of the object takes precedence. The fill value is casted to\n",
       "the object's dtype, if this can be done losslessly.\n",
       "\n",
       "Examples\n",
       "--------\n",
       ">>> s = pd.Series(range(5))\n",
       ">>> s.where(s > 0)\n",
       "0    NaN\n",
       "1    1.0\n",
       "2    2.0\n",
       "3    3.0\n",
       "4    4.0\n",
       "dtype: float64\n",
       ">>> s.mask(s > 0)\n",
       "0    0.0\n",
       "1    NaN\n",
       "2    NaN\n",
       "3    NaN\n",
       "4    NaN\n",
       "dtype: float64\n",
       "\n",
       ">>> s = pd.Series(range(5))\n",
       ">>> t = pd.Series([True, False])\n",
       ">>> s.where(t, 99)\n",
       "0     0\n",
       "1    99\n",
       "2    99\n",
       "3    99\n",
       "4    99\n",
       "dtype: int64\n",
       ">>> s.mask(t, 99)\n",
       "0    99\n",
       "1     1\n",
       "2    99\n",
       "3    99\n",
       "4    99\n",
       "dtype: int64\n",
       "\n",
       ">>> s.where(s > 1, 10)\n",
       "0    10\n",
       "1    10\n",
       "2    2\n",
       "3    3\n",
       "4    4\n",
       "dtype: int64\n",
       ">>> s.mask(s > 1, 10)\n",
       "0     0\n",
       "1     1\n",
       "2    10\n",
       "3    10\n",
       "4    10\n",
       "dtype: int64\n",
       "\n",
       ">>> df = pd.DataFrame(np.arange(10).reshape(-1, 2), columns=['A', 'B'])\n",
       ">>> df\n",
       "   A  B\n",
       "0  0  1\n",
       "1  2  3\n",
       "2  4  5\n",
       "3  6  7\n",
       "4  8  9\n",
       ">>> m = df % 3 == 0\n",
       ">>> df.where(m, -df)\n",
       "   A  B\n",
       "0  0 -1\n",
       "1 -2  3\n",
       "2 -4 -5\n",
       "3  6 -7\n",
       "4 -8  9\n",
       ">>> df.where(m, -df) == np.where(m, df, -df)\n",
       "      A     B\n",
       "0  True  True\n",
       "1  True  True\n",
       "2  True  True\n",
       "3  True  True\n",
       "4  True  True\n",
       ">>> df.where(m, -df) == df.mask(~m, -df)\n",
       "      A     B\n",
       "0  True  True\n",
       "1  True  True\n",
       "2  True  True\n",
       "3  True  True\n",
       "4  True  True\n",
       "\u001b[0;31mFile:\u001b[0m      /opt/anaconda3/envs/eds220-env/lib/python3.11/site-packages/pandas/core/generic.py\n",
       "\u001b[0;31mType:\u001b[0m      function"
      ]
     },
     "metadata": {},
     "output_type": "display_data"
    },
    {
     "data": {
      "text/plain": [
       "A    1.0\n",
       "B    NaN\n",
       "C    2.0\n",
       "D    NaN\n",
       "dtype: float64"
      ]
     },
     "execution_count": 26,
     "metadata": {},
     "output_type": "execute_result"
    }
   ],
   "source": [
    "# Check-in Problem No. 2\n",
    "# Check documentation for mask() function\n",
    "?pd.Series.mask\n",
    "\n",
    "# Apply the mask\n",
    "s = s.mask(s == -999)\n",
    "s"
   ]
  },
  {
   "cell_type": "markdown",
   "id": "cee80a62-d860-43c2-86e9-1f6b24390b51",
   "metadata": {},
   "source": [
    "# *Creating a `pandas.Dataframe`*"
   ]
  },
  {
   "cell_type": "code",
   "execution_count": 27,
   "id": "e13b3040-0930-43ee-ad91-43587c2e4f6c",
   "metadata": {
    "tags": []
   },
   "outputs": [
    {
     "data": {
      "text/html": [
       "<div>\n",
       "<style scoped>\n",
       "    .dataframe tbody tr th:only-of-type {\n",
       "        vertical-align: middle;\n",
       "    }\n",
       "\n",
       "    .dataframe tbody tr th {\n",
       "        vertical-align: top;\n",
       "    }\n",
       "\n",
       "    .dataframe thead th {\n",
       "        text-align: right;\n",
       "    }\n",
       "</style>\n",
       "<table border=\"1\" class=\"dataframe\">\n",
       "  <thead>\n",
       "    <tr style=\"text-align: right;\">\n",
       "      <th></th>\n",
       "      <th>col_name_1</th>\n",
       "      <th>col_name_2</th>\n",
       "    </tr>\n",
       "  </thead>\n",
       "  <tbody>\n",
       "    <tr>\n",
       "      <th>0</th>\n",
       "      <td>0</td>\n",
       "      <td>3.1</td>\n",
       "    </tr>\n",
       "    <tr>\n",
       "      <th>1</th>\n",
       "      <td>1</td>\n",
       "      <td>3.2</td>\n",
       "    </tr>\n",
       "    <tr>\n",
       "      <th>2</th>\n",
       "      <td>2</td>\n",
       "      <td>3.3</td>\n",
       "    </tr>\n",
       "  </tbody>\n",
       "</table>\n",
       "</div>"
      ],
      "text/plain": [
       "   col_name_1  col_name_2\n",
       "0           0         3.1\n",
       "1           1         3.2\n",
       "2           2         3.3"
      ]
     },
     "execution_count": 27,
     "metadata": {},
     "output_type": "execute_result"
    }
   ],
   "source": [
    "# Initialize dictionary with columns' data\n",
    "d = {'col_name_1' : pd.Series(np.arange(3)),\n",
    "     'col_name_2' : pd.Series([3.1, 3.2, 3.3]),\n",
    "    }\n",
    "\n",
    "# Create data frame\n",
    "df = pd.DataFrame(d)\n",
    "df"
   ]
  },
  {
   "cell_type": "code",
   "execution_count": 36,
   "id": "3ab3f09f-6547-453f-baa7-1acd745bcad8",
   "metadata": {
    "tags": []
   },
   "outputs": [
    {
     "data": {
      "text/html": [
       "<div>\n",
       "<style scoped>\n",
       "    .dataframe tbody tr th:only-of-type {\n",
       "        vertical-align: middle;\n",
       "    }\n",
       "\n",
       "    .dataframe tbody tr th {\n",
       "        vertical-align: top;\n",
       "    }\n",
       "\n",
       "    .dataframe thead th {\n",
       "        text-align: right;\n",
       "    }\n",
       "</style>\n",
       "<table border=\"1\" class=\"dataframe\">\n",
       "  <thead>\n",
       "    <tr style=\"text-align: right;\">\n",
       "      <th></th>\n",
       "      <th>col_1</th>\n",
       "      <th>col_2</th>\n",
       "    </tr>\n",
       "  </thead>\n",
       "  <tbody>\n",
       "    <tr>\n",
       "      <th>0</th>\n",
       "      <td>0</td>\n",
       "      <td>3.1</td>\n",
       "    </tr>\n",
       "    <tr>\n",
       "      <th>1</th>\n",
       "      <td>1</td>\n",
       "      <td>3.2</td>\n",
       "    </tr>\n",
       "    <tr>\n",
       "      <th>2</th>\n",
       "      <td>2</td>\n",
       "      <td>3.3</td>\n",
       "    </tr>\n",
       "  </tbody>\n",
       "</table>\n",
       "</div>"
      ],
      "text/plain": [
       "   col_1  col_2\n",
       "0      0    3.1\n",
       "1      1    3.2\n",
       "2      2    3.3"
      ]
     },
     "execution_count": 36,
     "metadata": {},
     "output_type": "execute_result"
    }
   ],
   "source": [
    "# Check-in problem 3\n",
    "df.columns = ['col_1', 'col_2']\n",
    "df"
   ]
  },
  {
   "cell_type": "code",
   "execution_count": 35,
   "id": "66d41a48-0eb8-4967-9e97-e41f0c42d17b",
   "metadata": {
    "tags": []
   },
   "outputs": [
    {
     "data": {
      "text/html": [
       "<div>\n",
       "<style scoped>\n",
       "    .dataframe tbody tr th:only-of-type {\n",
       "        vertical-align: middle;\n",
       "    }\n",
       "\n",
       "    .dataframe tbody tr th {\n",
       "        vertical-align: top;\n",
       "    }\n",
       "\n",
       "    .dataframe thead th {\n",
       "        text-align: right;\n",
       "    }\n",
       "</style>\n",
       "<table border=\"1\" class=\"dataframe\">\n",
       "  <thead>\n",
       "    <tr style=\"text-align: right;\">\n",
       "      <th></th>\n",
       "      <th>col_name_1</th>\n",
       "      <th>col_name_2</th>\n",
       "    </tr>\n",
       "  </thead>\n",
       "  <tbody>\n",
       "    <tr>\n",
       "      <th>a</th>\n",
       "      <td>0</td>\n",
       "      <td>3.1</td>\n",
       "    </tr>\n",
       "    <tr>\n",
       "      <th>b</th>\n",
       "      <td>1</td>\n",
       "      <td>3.2</td>\n",
       "    </tr>\n",
       "    <tr>\n",
       "      <th>c</th>\n",
       "      <td>2</td>\n",
       "      <td>3.3</td>\n",
       "    </tr>\n",
       "  </tbody>\n",
       "</table>\n",
       "</div>"
      ],
      "text/plain": [
       "   col_name_1  col_name_2\n",
       "a           0         3.1\n",
       "b           1         3.2\n",
       "c           2         3.3"
      ]
     },
     "execution_count": 35,
     "metadata": {},
     "output_type": "execute_result"
    }
   ],
   "source": [
    "# Change index to 'a', 'b', 'c'\n",
    "df.index = ['a', 'b', 'c']\n",
    "df"
   ]
  },
  {
   "cell_type": "markdown",
   "id": "49dcf289-63cf-4ee0-b711-a291c3e3430c",
   "metadata": {},
   "source": [
    "## **Summary of Concepts**"
   ]
  },
  {
   "cell_type": "markdown",
   "id": "102227d9-2c35-48ff-bf25-f69faa0ec005",
   "metadata": {},
   "source": [
    "We learned about 4 separate data structures in python: Arrays, Dictionaries, Series and Dataframes. Arrays are 1-dimensional (I think) lists of values that have no order, and are intiated by NumPy. A series is 2-dimensional, and is a list of values that are associated with an index. And index is a column that allows the order of values within a sequence to be utilized and manipulated. Series are intiated using the Pandas package. A dictionary is a native python function which allows one to associate 'keys' with 'values'. The 'values' can be individual values, or a series. Within a dictionary, members of a series that comprise a 'value' will share a 'key'. These dictionaries can be represented as data-frames. A data frame can take a dictionary, and assign an index to the members of the series that comprise the 'value' portion of the 'key'-'value' pair."
   ]
  },
  {
   "cell_type": "code",
   "execution_count": null,
   "id": "9afc4b1a-d52d-447a-8515-d84705918596",
   "metadata": {},
   "outputs": [],
   "source": []
  }
 ],
 "metadata": {
  "kernelspec": {
   "display_name": "EDS220",
   "language": "python",
   "name": "eds220-env"
  },
  "language_info": {
   "codemirror_mode": {
    "name": "ipython",
    "version": 3
   },
   "file_extension": ".py",
   "mimetype": "text/x-python",
   "name": "python",
   "nbconvert_exporter": "python",
   "pygments_lexer": "ipython3",
   "version": "3.11.4"
  }
 },
 "nbformat": 4,
 "nbformat_minor": 5
}
