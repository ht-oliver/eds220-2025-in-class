{
 "cells": [
  {
   "cell_type": "markdown",
   "id": "874265a2-8e17-45fa-9127-1c025d3d7320",
   "metadata": {},
   "source": [
    "## Pandas Series Data Frames"
   ]
  },
  {
   "cell_type": "code",
   "execution_count": 1,
   "id": "11064bd4-2a4f-4563-9291-9e8bc491cee6",
   "metadata": {
    "tags": []
   },
   "outputs": [],
   "source": [
    "import pandas as pd\n",
    "import numpy as np"
   ]
  },
  {
   "cell_type": "markdown",
   "id": "64474a4c-1a1d-4488-a033-15518e08ebba",
   "metadata": {},
   "source": [
    "Create a numpy array"
   ]
  },
  {
   "cell_type": "code",
   "execution_count": 3,
   "id": "9d14c094-1711-4d8d-980d-85d078cde474",
   "metadata": {
    "tags": []
   },
   "outputs": [
    {
     "name": "stdout",
     "output_type": "stream",
     "text": [
      "<class 'numpy.ndarray'>\n",
      "[ 1.10577579 -0.59820492  0.00408366  0.56335478] /n\n",
      "<class 'pandas.core.series.Series'>\n",
      "0    1.105776\n",
      "1   -0.598205\n",
      "2    0.004084\n",
      "3    0.563355\n",
      "dtype: float64\n"
     ]
    }
   ],
   "source": [
    "# create random values from std normal distribution\n",
    "arr = np.random.randn(4)\n",
    "print(type(arr))\n",
    "print(arr, \"/n\")\n",
    "\n",
    "# A pandas series made from the array above\n",
    "s = pd.Series(arr)\n",
    "print(type(s))\n",
    "print(s)"
   ]
  },
  {
   "cell_type": "markdown",
   "id": "b4e92659-3d48-4b91-a457-a4d75034569c",
   "metadata": {},
   "source": [
    "Notice that the index is included in a Panda series. Although the array can be indexed, the index is not part of it's data structure."
   ]
  },
  {
   "cell_type": "code",
   "execution_count": 4,
   "id": "daf27709-5ccd-4e24-b3cc-09a3daa02224",
   "metadata": {
    "tags": []
   },
   "outputs": [
    {
     "data": {
      "text/plain": [
       "2023    0\n",
       "2024    1\n",
       "2025    2\n",
       "dtype: int64"
      ]
     },
     "execution_count": 4,
     "metadata": {},
     "output_type": "execute_result"
    }
   ],
   "source": [
    "# creating a pandas series from a NumPy array\n",
    "pd.Series(np.arange(3), index = [2023, 2024, 2025])\n"
   ]
  },
  {
   "cell_type": "code",
   "execution_count": 5,
   "id": "2c01bb80-2d27-48bc-ad80-1bc8230bf963",
   "metadata": {
    "tags": []
   },
   "outputs": [
    {
     "data": {
      "text/plain": [
       "0    EDS 220\n",
       "1    EDS 222\n",
       "2    EDS 223\n",
       "3    EDS 242\n",
       "dtype: object"
      ]
     },
     "execution_count": 5,
     "metadata": {},
     "output_type": "execute_result"
    }
   ],
   "source": [
    "# A series from a list of strings with default index\n",
    "pd.Series(['EDS 220', 'EDS 222', 'EDS 223', 'EDS 242'])"
   ]
  },
  {
   "cell_type": "code",
   "execution_count": null,
   "id": "2eafd6f1-13dd-423b-bfe6-1357649c90a0",
   "metadata": {},
   "outputs": [],
   "source": []
  }
 ],
 "metadata": {
  "kernelspec": {
   "display_name": "EDS220",
   "language": "python",
   "name": "eds220-env"
  },
  "language_info": {
   "codemirror_mode": {
    "name": "ipython",
    "version": 3
   },
   "file_extension": ".py",
   "mimetype": "text/x-python",
   "name": "python",
   "nbconvert_exporter": "python",
   "pygments_lexer": "ipython3",
   "version": "3.11.4"
  }
 },
 "nbformat": 4,
 "nbformat_minor": 5
}
