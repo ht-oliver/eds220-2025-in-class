{
 "cells": [
  {
   "cell_type": "markdown",
   "id": "874265a2-8e17-45fa-9127-1c025d3d7320",
   "metadata": {},
   "source": [
    "## Pandas Series Data Frames"
   ]
  },
  {
   "cell_type": "code",
   "execution_count": 2,
   "id": "11064bd4-2a4f-4563-9291-9e8bc491cee6",
   "metadata": {
    "tags": []
   },
   "outputs": [],
   "source": [
    "import pandas as pd\n",
    "import numpy as np"
   ]
  },
  {
   "cell_type": "markdown",
   "id": "64474a4c-1a1d-4488-a033-15518e08ebba",
   "metadata": {},
   "source": [
    "Create a numpy array"
   ]
  },
  {
   "cell_type": "code",
   "execution_count": 3,
   "id": "9d14c094-1711-4d8d-980d-85d078cde474",
   "metadata": {
    "tags": []
   },
   "outputs": [
    {
     "name": "stdout",
     "output_type": "stream",
     "text": [
      "<class 'numpy.ndarray'>\n",
      "[ 1.10577579 -0.59820492  0.00408366  0.56335478] /n\n",
      "<class 'pandas.core.series.Series'>\n",
      "0    1.105776\n",
      "1   -0.598205\n",
      "2    0.004084\n",
      "3    0.563355\n",
      "dtype: float64\n"
     ]
    }
   ],
   "source": [
    "# create random values from std normal distribution\n",
    "arr = np.random.randn(4)\n",
    "print(type(arr))\n",
    "print(arr, \"/n\")\n",
    "\n",
    "# A pandas series made from the array above\n",
    "s = pd.Series(arr)\n",
    "print(type(s))\n",
    "print(s)"
   ]
  },
  {
   "cell_type": "markdown",
   "id": "b4e92659-3d48-4b91-a457-a4d75034569c",
   "metadata": {},
   "source": [
    "Notice that the index is included in a Panda series. Although the array can be indexed, the index is not part of it's data structure."
   ]
  },
  {
   "cell_type": "code",
   "execution_count": 4,
   "id": "daf27709-5ccd-4e24-b3cc-09a3daa02224",
   "metadata": {
    "tags": []
   },
   "outputs": [
    {
     "data": {
      "text/plain": [
       "2023    0\n",
       "2024    1\n",
       "2025    2\n",
       "dtype: int64"
      ]
     },
     "execution_count": 4,
     "metadata": {},
     "output_type": "execute_result"
    }
   ],
   "source": [
    "# creating a pandas series from a NumPy array\n",
    "pd.Series(np.arange(3), index = [2023, 2024, 2025])\n"
   ]
  },
  {
   "cell_type": "code",
   "execution_count": 5,
   "id": "2c01bb80-2d27-48bc-ad80-1bc8230bf963",
   "metadata": {
    "tags": []
   },
   "outputs": [
    {
     "data": {
      "text/plain": [
       "0    EDS 220\n",
       "1    EDS 222\n",
       "2    EDS 223\n",
       "3    EDS 242\n",
       "dtype: object"
      ]
     },
     "execution_count": 5,
     "metadata": {},
     "output_type": "execute_result"
    }
   ],
   "source": [
    "# A series from a list of strings with default index\n",
    "pd.Series(['EDS 220', 'EDS 222', 'EDS 223', 'EDS 242'])"
   ]
  },
  {
   "cell_type": "code",
   "execution_count": 14,
   "id": "2eafd6f1-13dd-423b-bfe6-1357649c90a0",
   "metadata": {},
   "outputs": [
    {
     "name": "stdout",
     "output_type": "stream",
     "text": [
      "key_0    2\n",
      "key_1    3\n",
      "key_2    5\n",
      "dtype: int64\n",
      "int64\n"
     ]
    }
   ],
   "source": [
    "# Create a pandas.Series from a dictionary\n",
    "\n",
    "# Construct a dictionary - keys and values. ¿These values have the data type - 'dict'\n",
    "d = {'key_0':2, 'key_1':3, 'key_2':5}\n",
    "\n",
    "# Initialize a series using the dictionary\n",
    "print(pd.Series(d))\n",
    "s = pd.Series(d)\n",
    "s\n",
    "\n",
    "print(s.dtype)\n",
    "\n",
    "# Notice, if any '' are included around the numbers in the value portion\n",
    "# of the dictionary above, the data type of the series will be 'object'"
   ]
  },
  {
   "cell_type": "code",
   "execution_count": 15,
   "id": "ed451267-ca29-4f58-9945-40e8d8315d37",
   "metadata": {
    "tags": []
   },
   "outputs": [
    {
     "data": {
      "text/plain": [
       "A    3.0\n",
       "B    3.0\n",
       "C    3.0\n",
       "dtype: float64"
      ]
     },
     "execution_count": 15,
     "metadata": {},
     "output_type": "execute_result"
    }
   ],
   "source": [
    "# Create a pandas.Series from a single value\n",
    "pd.Series(3.0, index = ['A', 'B', 'C'])"
   ]
  },
  {
   "cell_type": "markdown",
   "id": "de300dc8-de7b-458b-8d9f-071691cb437a",
   "metadata": {},
   "source": [
    "# *Simple Operations*"
   ]
  },
  {
   "cell_type": "code",
   "execution_count": 23,
   "id": "0dd1a4e0-2af0-4220-ab75-f51b3bac66da",
   "metadata": {
    "tags": []
   },
   "outputs": [
    {
     "name": "stdout",
     "output_type": "stream",
     "text": [
      "Arnold       9.8\n",
      "Barney       7.3\n",
      "Crampston    6.5\n",
      "dtype: float64 \n",
      "\n",
      "Arnold       3.637971e+42\n",
      "Barney       5.052394e+31\n",
      "Crampston    1.694889e+28\n",
      "dtype: float64 \n",
      "\n",
      "ellow 148.4131591025766\n",
      "Arnold       98\n",
      "Barney       73\n",
      "Crampston    65\n",
      "dtype: int64\n"
     ]
    }
   ],
   "source": [
    "# Define a series\n",
    "z = pd.Series([98, 73, 65], index = ['Arnold', 'Barney', 'Crampston'])\n",
    "\n",
    "# Divide each element in series by 10\n",
    "print(z /10, '\\n')\n",
    "\n",
    "# Take the exponential (e^n) of each element in the series\n",
    "print(np.exp(z), '\\n')\n",
    "\n",
    "# Original series is unchanged\n",
    "print(z)"
   ]
  },
  {
   "cell_type": "code",
   "execution_count": 27,
   "id": "87f48f36-7c8f-4ad1-ba86-dd12e8471af7",
   "metadata": {
    "tags": []
   },
   "outputs": [
    {
     "name": "stdout",
     "output_type": "stream",
     "text": [
      "Arnold        True\n",
      "Barney        True\n",
      "Crampston    False\n",
      "dtype: bool\n",
      "Arnold       False\n",
      "Barney       False\n",
      "Crampston     True\n",
      "dtype: bool\n"
     ]
    }
   ],
   "source": [
    "# You can also produce new series with True/False values\n",
    "# based on whether elements in a series satisfy a condition or not\n",
    "\n",
    "print(z > 70)\n",
    "\n",
    "print(z < 70)\n",
    "\n",
    "# This is useful when selecting data from data frames"
   ]
  },
  {
   "cell_type": "markdown",
   "id": "9971cbdc-00dd-4d10-a301-c86806d0e3f3",
   "metadata": {},
   "source": [
    "# *Identifying missing values*"
   ]
  },
  {
   "cell_type": "code",
   "execution_count": 28,
   "id": "7d961c40-b527-4bcc-adf0-bb957f94d04e",
   "metadata": {
    "tags": []
   },
   "outputs": [
    {
     "data": {
      "text/plain": [
       "0    1.0\n",
       "1    2.0\n",
       "2    NaN\n",
       "3    4.0\n",
       "4    NaN\n",
       "dtype: float64"
      ]
     },
     "execution_count": 28,
     "metadata": {},
     "output_type": "execute_result"
    }
   ],
   "source": [
    "# Series with NAs in it\n",
    "na_s = pd.Series([1, 2, np.nan, 4, np.nan])\n",
    "\n",
    "na_s"
   ]
  },
  {
   "cell_type": "code",
   "execution_count": 30,
   "id": "c838c1b2-30e7-4f2d-bd54-3b21e92d516b",
   "metadata": {
    "tags": []
   },
   "outputs": [
    {
     "data": {
      "text/plain": [
       "True"
      ]
     },
     "execution_count": 30,
     "metadata": {},
     "output_type": "execute_result"
    }
   ],
   "source": [
    "# Cehck if series has NAs with hasnans\n",
    "na_s.hasnans"
   ]
  },
  {
   "cell_type": "code",
   "execution_count": 31,
   "id": "d556a3ae-e178-427c-8059-9544c9c957a1",
   "metadata": {
    "tags": []
   },
   "outputs": [
    {
     "data": {
      "text/plain": [
       "0    False\n",
       "1    False\n",
       "2     True\n",
       "3    False\n",
       "4     True\n",
       "dtype: bool"
      ]
     },
     "execution_count": 31,
     "metadata": {},
     "output_type": "execute_result"
    }
   ],
   "source": [
    "# Get a list of booleans with the isna() attribute\n",
    "na_s.isna()"
   ]
  },
  {
   "cell_type": "markdown",
   "id": "cee80a62-d860-43c2-86e9-1f6b24390b51",
   "metadata": {},
   "source": [
    "# *Creating a `pandas.Dataframe`*"
   ]
  },
  {
   "cell_type": "code",
   "execution_count": 34,
   "id": "e13b3040-0930-43ee-ad91-43587c2e4f6c",
   "metadata": {
    "tags": []
   },
   "outputs": [
    {
     "data": {
      "text/html": [
       "<div>\n",
       "<style scoped>\n",
       "    .dataframe tbody tr th:only-of-type {\n",
       "        vertical-align: middle;\n",
       "    }\n",
       "\n",
       "    .dataframe tbody tr th {\n",
       "        vertical-align: top;\n",
       "    }\n",
       "\n",
       "    .dataframe thead th {\n",
       "        text-align: right;\n",
       "    }\n",
       "</style>\n",
       "<table border=\"1\" class=\"dataframe\">\n",
       "  <thead>\n",
       "    <tr style=\"text-align: right;\">\n",
       "      <th></th>\n",
       "      <th>col_name_1</th>\n",
       "      <th>col_name_2</th>\n",
       "    </tr>\n",
       "  </thead>\n",
       "  <tbody>\n",
       "    <tr>\n",
       "      <th>0</th>\n",
       "      <td>0</td>\n",
       "      <td>3.1</td>\n",
       "    </tr>\n",
       "    <tr>\n",
       "      <th>1</th>\n",
       "      <td>1</td>\n",
       "      <td>3.2</td>\n",
       "    </tr>\n",
       "    <tr>\n",
       "      <th>2</th>\n",
       "      <td>2</td>\n",
       "      <td>3.3</td>\n",
       "    </tr>\n",
       "  </tbody>\n",
       "</table>\n",
       "</div>"
      ],
      "text/plain": [
       "   col_name_1  col_name_2\n",
       "0           0         3.1\n",
       "1           1         3.2\n",
       "2           2         3.3"
      ]
     },
     "execution_count": 34,
     "metadata": {},
     "output_type": "execute_result"
    }
   ],
   "source": [
    "# Initialize dictionary with columns' data\n",
    "d = {'col_name_1' : pd.Series(np.arange(3)),\n",
    "     'col_name_2' : pd.Series([3.1, 3.2, 3.3]),\n",
    "    }\n",
    "\n",
    "# Create data frame\n",
    "df = pd.DataFrame(d)\n",
    "df"
   ]
  },
  {
   "cell_type": "code",
   "execution_count": 35,
   "id": "66d41a48-0eb8-4967-9e97-e41f0c42d17b",
   "metadata": {
    "tags": []
   },
   "outputs": [
    {
     "data": {
      "text/html": [
       "<div>\n",
       "<style scoped>\n",
       "    .dataframe tbody tr th:only-of-type {\n",
       "        vertical-align: middle;\n",
       "    }\n",
       "\n",
       "    .dataframe tbody tr th {\n",
       "        vertical-align: top;\n",
       "    }\n",
       "\n",
       "    .dataframe thead th {\n",
       "        text-align: right;\n",
       "    }\n",
       "</style>\n",
       "<table border=\"1\" class=\"dataframe\">\n",
       "  <thead>\n",
       "    <tr style=\"text-align: right;\">\n",
       "      <th></th>\n",
       "      <th>col_name_1</th>\n",
       "      <th>col_name_2</th>\n",
       "    </tr>\n",
       "  </thead>\n",
       "  <tbody>\n",
       "    <tr>\n",
       "      <th>a</th>\n",
       "      <td>0</td>\n",
       "      <td>3.1</td>\n",
       "    </tr>\n",
       "    <tr>\n",
       "      <th>b</th>\n",
       "      <td>1</td>\n",
       "      <td>3.2</td>\n",
       "    </tr>\n",
       "    <tr>\n",
       "      <th>c</th>\n",
       "      <td>2</td>\n",
       "      <td>3.3</td>\n",
       "    </tr>\n",
       "  </tbody>\n",
       "</table>\n",
       "</div>"
      ],
      "text/plain": [
       "   col_name_1  col_name_2\n",
       "a           0         3.1\n",
       "b           1         3.2\n",
       "c           2         3.3"
      ]
     },
     "execution_count": 35,
     "metadata": {},
     "output_type": "execute_result"
    }
   ],
   "source": [
    "# Change index to 'a', 'b', 'c'\n",
    "df.index = ['a', 'b', 'c']\n",
    "df"
   ]
  },
  {
   "cell_type": "code",
   "execution_count": null,
   "id": "39d3eacd-46af-4136-9c6d-1cf7fbe3dc47",
   "metadata": {},
   "outputs": [],
   "source": []
  }
 ],
 "metadata": {
  "kernelspec": {
   "display_name": "EDS220",
   "language": "python",
   "name": "eds220-env"
  },
  "language_info": {
   "codemirror_mode": {
    "name": "ipython",
    "version": 3
   },
   "file_extension": ".py",
   "mimetype": "text/x-python",
   "name": "python",
   "nbconvert_exporter": "python",
   "pygments_lexer": "ipython3",
   "version": "3.11.4"
  }
 },
 "nbformat": 4,
 "nbformat_minor": 5
}
