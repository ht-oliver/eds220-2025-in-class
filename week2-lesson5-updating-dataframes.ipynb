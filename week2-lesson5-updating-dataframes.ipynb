{
 "cells": [
  {
   "cell_type": "markdown",
   "id": "88005c2f-2757-460f-9074-5206b727cb67",
   "metadata": {},
   "source": [
    "# Updating data frames\n",
    "\n",
    "## Updating values in a dataframe\n",
    "\n",
    "Let's start by importing packages and data"
   ]
  },
  {
   "cell_type": "code",
   "execution_count": 1,
   "id": "73a97d9c-a075-4707-b3fe-1b0c5c52169c",
   "metadata": {
    "tags": []
   },
   "outputs": [],
   "source": [
    "import numpy as np\n",
    "import pandas as pd\n",
    "import random\n",
    "\n",
    "# Set the seed\n",
    "random.seed(42)\n",
    "\n",
    "# Import data\n",
    "URL = 'https://raw.githubusercontent.com/allisonhorst/palmerpenguins/main/inst/extdata/penguins.csv'\n",
    "penguins = pd.read_csv(URL)"
   ]
  },
  {
   "cell_type": "code",
   "execution_count": 2,
   "id": "a1b0ddd0-47e7-405c-afea-295ec5f9398b",
   "metadata": {
    "tags": []
   },
   "outputs": [
    {
     "name": "stdout",
     "output_type": "stream",
     "text": [
      "True\n"
     ]
    }
   ],
   "source": [
    "# Add column body mass in kg\n",
    "penguins['body_mass_kg'] = penguins['body_mass_g']/1000\n",
    "\n",
    "# Confirm the new column is in the data frame\n",
    "print('body_mass_kg' in penguins.columns)"
   ]
  },
  {
   "cell_type": "code",
   "execution_count": 3,
   "id": "957c7ed3-4553-426f-ad6d-fafe12006286",
   "metadata": {
    "collapsed": true,
    "jupyter": {
     "outputs_hidden": true
    },
    "tags": []
   },
   "outputs": [
    {
     "data": {
      "text/html": [
       "<div>\n",
       "<style scoped>\n",
       "    .dataframe tbody tr th:only-of-type {\n",
       "        vertical-align: middle;\n",
       "    }\n",
       "\n",
       "    .dataframe tbody tr th {\n",
       "        vertical-align: top;\n",
       "    }\n",
       "\n",
       "    .dataframe thead th {\n",
       "        text-align: right;\n",
       "    }\n",
       "</style>\n",
       "<table border=\"1\" class=\"dataframe\">\n",
       "  <thead>\n",
       "    <tr style=\"text-align: right;\">\n",
       "      <th></th>\n",
       "      <th>species</th>\n",
       "      <th>island</th>\n",
       "      <th>bill_length_mm</th>\n",
       "      <th>bill_depth_mm</th>\n",
       "      <th>flipper_length_mm</th>\n",
       "      <th>body_mass_g</th>\n",
       "      <th>sex</th>\n",
       "      <th>year</th>\n",
       "      <th>body_mass_kg</th>\n",
       "    </tr>\n",
       "  </thead>\n",
       "  <tbody>\n",
       "    <tr>\n",
       "      <th>0</th>\n",
       "      <td>Adelie</td>\n",
       "      <td>Torgersen</td>\n",
       "      <td>39.1</td>\n",
       "      <td>18.7</td>\n",
       "      <td>181.0</td>\n",
       "      <td>3750.0</td>\n",
       "      <td>male</td>\n",
       "      <td>2007</td>\n",
       "      <td>3.750</td>\n",
       "    </tr>\n",
       "    <tr>\n",
       "      <th>1</th>\n",
       "      <td>Adelie</td>\n",
       "      <td>Torgersen</td>\n",
       "      <td>39.5</td>\n",
       "      <td>17.4</td>\n",
       "      <td>186.0</td>\n",
       "      <td>3800.0</td>\n",
       "      <td>female</td>\n",
       "      <td>2007</td>\n",
       "      <td>3.800</td>\n",
       "    </tr>\n",
       "    <tr>\n",
       "      <th>2</th>\n",
       "      <td>Adelie</td>\n",
       "      <td>Torgersen</td>\n",
       "      <td>40.3</td>\n",
       "      <td>18.0</td>\n",
       "      <td>195.0</td>\n",
       "      <td>3250.0</td>\n",
       "      <td>female</td>\n",
       "      <td>2007</td>\n",
       "      <td>3.250</td>\n",
       "    </tr>\n",
       "    <tr>\n",
       "      <th>3</th>\n",
       "      <td>Adelie</td>\n",
       "      <td>Torgersen</td>\n",
       "      <td>NaN</td>\n",
       "      <td>NaN</td>\n",
       "      <td>NaN</td>\n",
       "      <td>NaN</td>\n",
       "      <td>NaN</td>\n",
       "      <td>2007</td>\n",
       "      <td>NaN</td>\n",
       "    </tr>\n",
       "    <tr>\n",
       "      <th>4</th>\n",
       "      <td>Adelie</td>\n",
       "      <td>Torgersen</td>\n",
       "      <td>36.7</td>\n",
       "      <td>19.3</td>\n",
       "      <td>193.0</td>\n",
       "      <td>3450.0</td>\n",
       "      <td>female</td>\n",
       "      <td>2007</td>\n",
       "      <td>3.450</td>\n",
       "    </tr>\n",
       "    <tr>\n",
       "      <th>...</th>\n",
       "      <td>...</td>\n",
       "      <td>...</td>\n",
       "      <td>...</td>\n",
       "      <td>...</td>\n",
       "      <td>...</td>\n",
       "      <td>...</td>\n",
       "      <td>...</td>\n",
       "      <td>...</td>\n",
       "      <td>...</td>\n",
       "    </tr>\n",
       "    <tr>\n",
       "      <th>339</th>\n",
       "      <td>Chinstrap</td>\n",
       "      <td>Dream</td>\n",
       "      <td>55.8</td>\n",
       "      <td>19.8</td>\n",
       "      <td>207.0</td>\n",
       "      <td>4000.0</td>\n",
       "      <td>male</td>\n",
       "      <td>2009</td>\n",
       "      <td>4.000</td>\n",
       "    </tr>\n",
       "    <tr>\n",
       "      <th>340</th>\n",
       "      <td>Chinstrap</td>\n",
       "      <td>Dream</td>\n",
       "      <td>43.5</td>\n",
       "      <td>18.1</td>\n",
       "      <td>202.0</td>\n",
       "      <td>3400.0</td>\n",
       "      <td>female</td>\n",
       "      <td>2009</td>\n",
       "      <td>3.400</td>\n",
       "    </tr>\n",
       "    <tr>\n",
       "      <th>341</th>\n",
       "      <td>Chinstrap</td>\n",
       "      <td>Dream</td>\n",
       "      <td>49.6</td>\n",
       "      <td>18.2</td>\n",
       "      <td>193.0</td>\n",
       "      <td>3775.0</td>\n",
       "      <td>male</td>\n",
       "      <td>2009</td>\n",
       "      <td>3.775</td>\n",
       "    </tr>\n",
       "    <tr>\n",
       "      <th>342</th>\n",
       "      <td>Chinstrap</td>\n",
       "      <td>Dream</td>\n",
       "      <td>50.8</td>\n",
       "      <td>19.0</td>\n",
       "      <td>210.0</td>\n",
       "      <td>4100.0</td>\n",
       "      <td>male</td>\n",
       "      <td>2009</td>\n",
       "      <td>4.100</td>\n",
       "    </tr>\n",
       "    <tr>\n",
       "      <th>343</th>\n",
       "      <td>Chinstrap</td>\n",
       "      <td>Dream</td>\n",
       "      <td>50.2</td>\n",
       "      <td>18.7</td>\n",
       "      <td>198.0</td>\n",
       "      <td>3775.0</td>\n",
       "      <td>female</td>\n",
       "      <td>2009</td>\n",
       "      <td>3.775</td>\n",
       "    </tr>\n",
       "  </tbody>\n",
       "</table>\n",
       "<p>344 rows × 9 columns</p>\n",
       "</div>"
      ],
      "text/plain": [
       "       species     island  bill_length_mm  bill_depth_mm  flipper_length_mm  \\\n",
       "0       Adelie  Torgersen            39.1           18.7              181.0   \n",
       "1       Adelie  Torgersen            39.5           17.4              186.0   \n",
       "2       Adelie  Torgersen            40.3           18.0              195.0   \n",
       "3       Adelie  Torgersen             NaN            NaN                NaN   \n",
       "4       Adelie  Torgersen            36.7           19.3              193.0   \n",
       "..         ...        ...             ...            ...                ...   \n",
       "339  Chinstrap      Dream            55.8           19.8              207.0   \n",
       "340  Chinstrap      Dream            43.5           18.1              202.0   \n",
       "341  Chinstrap      Dream            49.6           18.2              193.0   \n",
       "342  Chinstrap      Dream            50.8           19.0              210.0   \n",
       "343  Chinstrap      Dream            50.2           18.7              198.0   \n",
       "\n",
       "     body_mass_g     sex  year  body_mass_kg  \n",
       "0         3750.0    male  2007         3.750  \n",
       "1         3800.0  female  2007         3.800  \n",
       "2         3250.0  female  2007         3.250  \n",
       "3            NaN     NaN  2007           NaN  \n",
       "4         3450.0  female  2007         3.450  \n",
       "..           ...     ...   ...           ...  \n",
       "339       4000.0    male  2009         4.000  \n",
       "340       3400.0  female  2009         3.400  \n",
       "341       3775.0    male  2009         3.775  \n",
       "342       4100.0    male  2009         4.100  \n",
       "343       3775.0  female  2009         3.775  \n",
       "\n",
       "[344 rows x 9 columns]"
      ]
     },
     "execution_count": 3,
     "metadata": {},
     "output_type": "execute_result"
    }
   ],
   "source": [
    "penguins"
   ]
  },
  {
   "cell_type": "code",
   "execution_count": 4,
   "id": "3ab9cfe7-3e66-44cf-be77-1f234aafeeec",
   "metadata": {
    "tags": []
   },
   "outputs": [],
   "source": [
    "# Create random 3-digit codes\n",
    "codes = random.sample(range(100,1000), len(penguins))"
   ]
  },
  {
   "cell_type": "code",
   "execution_count": 5,
   "id": "f4e59de3-df19-4179-98fc-ebd2d3cf8760",
   "metadata": {
    "collapsed": true,
    "jupyter": {
     "outputs_hidden": true
    },
    "tags": []
   },
   "outputs": [
    {
     "data": {
      "text/html": [
       "<div>\n",
       "<style scoped>\n",
       "    .dataframe tbody tr th:only-of-type {\n",
       "        vertical-align: middle;\n",
       "    }\n",
       "\n",
       "    .dataframe tbody tr th {\n",
       "        vertical-align: top;\n",
       "    }\n",
       "\n",
       "    .dataframe thead th {\n",
       "        text-align: right;\n",
       "    }\n",
       "</style>\n",
       "<table border=\"1\" class=\"dataframe\">\n",
       "  <thead>\n",
       "    <tr style=\"text-align: right;\">\n",
       "      <th></th>\n",
       "      <th>id_code</th>\n",
       "      <th>species</th>\n",
       "      <th>island</th>\n",
       "      <th>bill_length_mm</th>\n",
       "      <th>bill_depth_mm</th>\n",
       "      <th>flipper_length_mm</th>\n",
       "      <th>body_mass_g</th>\n",
       "      <th>sex</th>\n",
       "      <th>year</th>\n",
       "      <th>body_mass_kg</th>\n",
       "    </tr>\n",
       "  </thead>\n",
       "  <tbody>\n",
       "    <tr>\n",
       "      <th>0</th>\n",
       "      <td>754</td>\n",
       "      <td>Adelie</td>\n",
       "      <td>Torgersen</td>\n",
       "      <td>39.1</td>\n",
       "      <td>18.7</td>\n",
       "      <td>181.0</td>\n",
       "      <td>3750.0</td>\n",
       "      <td>male</td>\n",
       "      <td>2007</td>\n",
       "      <td>3.75</td>\n",
       "    </tr>\n",
       "    <tr>\n",
       "      <th>1</th>\n",
       "      <td>214</td>\n",
       "      <td>Adelie</td>\n",
       "      <td>Torgersen</td>\n",
       "      <td>39.5</td>\n",
       "      <td>17.4</td>\n",
       "      <td>186.0</td>\n",
       "      <td>3800.0</td>\n",
       "      <td>female</td>\n",
       "      <td>2007</td>\n",
       "      <td>3.80</td>\n",
       "    </tr>\n",
       "    <tr>\n",
       "      <th>2</th>\n",
       "      <td>125</td>\n",
       "      <td>Adelie</td>\n",
       "      <td>Torgersen</td>\n",
       "      <td>40.3</td>\n",
       "      <td>18.0</td>\n",
       "      <td>195.0</td>\n",
       "      <td>3250.0</td>\n",
       "      <td>female</td>\n",
       "      <td>2007</td>\n",
       "      <td>3.25</td>\n",
       "    </tr>\n",
       "    <tr>\n",
       "      <th>3</th>\n",
       "      <td>859</td>\n",
       "      <td>Adelie</td>\n",
       "      <td>Torgersen</td>\n",
       "      <td>NaN</td>\n",
       "      <td>NaN</td>\n",
       "      <td>NaN</td>\n",
       "      <td>NaN</td>\n",
       "      <td>NaN</td>\n",
       "      <td>2007</td>\n",
       "      <td>NaN</td>\n",
       "    </tr>\n",
       "    <tr>\n",
       "      <th>4</th>\n",
       "      <td>381</td>\n",
       "      <td>Adelie</td>\n",
       "      <td>Torgersen</td>\n",
       "      <td>36.7</td>\n",
       "      <td>19.3</td>\n",
       "      <td>193.0</td>\n",
       "      <td>3450.0</td>\n",
       "      <td>female</td>\n",
       "      <td>2007</td>\n",
       "      <td>3.45</td>\n",
       "    </tr>\n",
       "  </tbody>\n",
       "</table>\n",
       "</div>"
      ],
      "text/plain": [
       "   id_code species     island  bill_length_mm  bill_depth_mm  \\\n",
       "0      754  Adelie  Torgersen            39.1           18.7   \n",
       "1      214  Adelie  Torgersen            39.5           17.4   \n",
       "2      125  Adelie  Torgersen            40.3           18.0   \n",
       "3      859  Adelie  Torgersen             NaN            NaN   \n",
       "4      381  Adelie  Torgersen            36.7           19.3   \n",
       "\n",
       "   flipper_length_mm  body_mass_g     sex  year  body_mass_kg  \n",
       "0              181.0       3750.0    male  2007          3.75  \n",
       "1              186.0       3800.0  female  2007          3.80  \n",
       "2              195.0       3250.0  female  2007          3.25  \n",
       "3                NaN          NaN     NaN  2007           NaN  \n",
       "4              193.0       3450.0  female  2007          3.45  "
      ]
     },
     "execution_count": 5,
     "metadata": {},
     "output_type": "execute_result"
    }
   ],
   "source": [
    "# Insert codes at the front of the data frame\n",
    "\n",
    "penguins.insert(loc=0, #Index\n",
    "                column='id_code',\n",
    "                value=codes\n",
    "               )\n",
    "\n",
    "penguins.head()"
   ]
  },
  {
   "cell_type": "markdown",
   "id": "2e0cd793-c983-4695-9f66-48ebc1a55416",
   "metadata": {},
   "source": [
    "## A single value\n",
    "\n",
    "Access a single value in a `pandas.DataFrame` using locators\n",
    "\n",
    "- `at[]` to select by labels, or\n",
    "- `iat[]` to select by index position.\n",
    "\n",
    "Syntax.\n",
    "```\n",
    "df.at[single_index_value, `column_name`]\n",
    "```\n",
    "\n",
    "* `at[]` is the equivalent of `loc[]` "
   ]
  },
  {
   "cell_type": "code",
   "execution_count": 6,
   "id": "0e2f9d49-321f-48cd-9fe9-1406c5368012",
   "metadata": {
    "tags": []
   },
   "outputs": [],
   "source": [
    "penguins = penguins.set_index('id_code')"
   ]
  },
  {
   "cell_type": "code",
   "execution_count": 7,
   "id": "6302bf61-1ff6-4407-b8d7-5df8672764c8",
   "metadata": {
    "tags": []
   },
   "outputs": [
    {
     "data": {
      "text/html": [
       "<div>\n",
       "<style scoped>\n",
       "    .dataframe tbody tr th:only-of-type {\n",
       "        vertical-align: middle;\n",
       "    }\n",
       "\n",
       "    .dataframe tbody tr th {\n",
       "        vertical-align: top;\n",
       "    }\n",
       "\n",
       "    .dataframe thead th {\n",
       "        text-align: right;\n",
       "    }\n",
       "</style>\n",
       "<table border=\"1\" class=\"dataframe\">\n",
       "  <thead>\n",
       "    <tr style=\"text-align: right;\">\n",
       "      <th></th>\n",
       "      <th>species</th>\n",
       "      <th>island</th>\n",
       "      <th>bill_length_mm</th>\n",
       "      <th>bill_depth_mm</th>\n",
       "      <th>flipper_length_mm</th>\n",
       "      <th>body_mass_g</th>\n",
       "      <th>sex</th>\n",
       "      <th>year</th>\n",
       "      <th>body_mass_kg</th>\n",
       "    </tr>\n",
       "    <tr>\n",
       "      <th>id_code</th>\n",
       "      <th></th>\n",
       "      <th></th>\n",
       "      <th></th>\n",
       "      <th></th>\n",
       "      <th></th>\n",
       "      <th></th>\n",
       "      <th></th>\n",
       "      <th></th>\n",
       "      <th></th>\n",
       "    </tr>\n",
       "  </thead>\n",
       "  <tbody>\n",
       "    <tr>\n",
       "      <th>754</th>\n",
       "      <td>Adelie</td>\n",
       "      <td>Torgersen</td>\n",
       "      <td>39.1</td>\n",
       "      <td>18.7</td>\n",
       "      <td>181.0</td>\n",
       "      <td>3750.0</td>\n",
       "      <td>male</td>\n",
       "      <td>2007</td>\n",
       "      <td>3.750</td>\n",
       "    </tr>\n",
       "    <tr>\n",
       "      <th>214</th>\n",
       "      <td>Adelie</td>\n",
       "      <td>Torgersen</td>\n",
       "      <td>39.5</td>\n",
       "      <td>17.4</td>\n",
       "      <td>186.0</td>\n",
       "      <td>3800.0</td>\n",
       "      <td>female</td>\n",
       "      <td>2007</td>\n",
       "      <td>3.800</td>\n",
       "    </tr>\n",
       "    <tr>\n",
       "      <th>125</th>\n",
       "      <td>Adelie</td>\n",
       "      <td>Torgersen</td>\n",
       "      <td>40.3</td>\n",
       "      <td>18.0</td>\n",
       "      <td>195.0</td>\n",
       "      <td>3250.0</td>\n",
       "      <td>female</td>\n",
       "      <td>2007</td>\n",
       "      <td>3.250</td>\n",
       "    </tr>\n",
       "    <tr>\n",
       "      <th>859</th>\n",
       "      <td>Adelie</td>\n",
       "      <td>Torgersen</td>\n",
       "      <td>NaN</td>\n",
       "      <td>NaN</td>\n",
       "      <td>NaN</td>\n",
       "      <td>NaN</td>\n",
       "      <td>NaN</td>\n",
       "      <td>2007</td>\n",
       "      <td>NaN</td>\n",
       "    </tr>\n",
       "    <tr>\n",
       "      <th>381</th>\n",
       "      <td>Adelie</td>\n",
       "      <td>Torgersen</td>\n",
       "      <td>36.7</td>\n",
       "      <td>19.3</td>\n",
       "      <td>193.0</td>\n",
       "      <td>3450.0</td>\n",
       "      <td>female</td>\n",
       "      <td>2007</td>\n",
       "      <td>3.450</td>\n",
       "    </tr>\n",
       "    <tr>\n",
       "      <th>...</th>\n",
       "      <td>...</td>\n",
       "      <td>...</td>\n",
       "      <td>...</td>\n",
       "      <td>...</td>\n",
       "      <td>...</td>\n",
       "      <td>...</td>\n",
       "      <td>...</td>\n",
       "      <td>...</td>\n",
       "      <td>...</td>\n",
       "    </tr>\n",
       "    <tr>\n",
       "      <th>140</th>\n",
       "      <td>Chinstrap</td>\n",
       "      <td>Dream</td>\n",
       "      <td>55.8</td>\n",
       "      <td>19.8</td>\n",
       "      <td>207.0</td>\n",
       "      <td>4000.0</td>\n",
       "      <td>male</td>\n",
       "      <td>2009</td>\n",
       "      <td>4.000</td>\n",
       "    </tr>\n",
       "    <tr>\n",
       "      <th>183</th>\n",
       "      <td>Chinstrap</td>\n",
       "      <td>Dream</td>\n",
       "      <td>43.5</td>\n",
       "      <td>18.1</td>\n",
       "      <td>202.0</td>\n",
       "      <td>3400.0</td>\n",
       "      <td>female</td>\n",
       "      <td>2009</td>\n",
       "      <td>3.400</td>\n",
       "    </tr>\n",
       "    <tr>\n",
       "      <th>969</th>\n",
       "      <td>Chinstrap</td>\n",
       "      <td>Dream</td>\n",
       "      <td>49.6</td>\n",
       "      <td>18.2</td>\n",
       "      <td>193.0</td>\n",
       "      <td>3775.0</td>\n",
       "      <td>male</td>\n",
       "      <td>2009</td>\n",
       "      <td>3.775</td>\n",
       "    </tr>\n",
       "    <tr>\n",
       "      <th>635</th>\n",
       "      <td>Chinstrap</td>\n",
       "      <td>Dream</td>\n",
       "      <td>50.8</td>\n",
       "      <td>19.0</td>\n",
       "      <td>210.0</td>\n",
       "      <td>4100.0</td>\n",
       "      <td>male</td>\n",
       "      <td>2009</td>\n",
       "      <td>4.100</td>\n",
       "    </tr>\n",
       "    <tr>\n",
       "      <th>883</th>\n",
       "      <td>Chinstrap</td>\n",
       "      <td>Dream</td>\n",
       "      <td>50.2</td>\n",
       "      <td>18.7</td>\n",
       "      <td>198.0</td>\n",
       "      <td>3775.0</td>\n",
       "      <td>female</td>\n",
       "      <td>2009</td>\n",
       "      <td>3.775</td>\n",
       "    </tr>\n",
       "  </tbody>\n",
       "</table>\n",
       "<p>344 rows × 9 columns</p>\n",
       "</div>"
      ],
      "text/plain": [
       "           species     island  bill_length_mm  bill_depth_mm  \\\n",
       "id_code                                                        \n",
       "754         Adelie  Torgersen            39.1           18.7   \n",
       "214         Adelie  Torgersen            39.5           17.4   \n",
       "125         Adelie  Torgersen            40.3           18.0   \n",
       "859         Adelie  Torgersen             NaN            NaN   \n",
       "381         Adelie  Torgersen            36.7           19.3   \n",
       "...            ...        ...             ...            ...   \n",
       "140      Chinstrap      Dream            55.8           19.8   \n",
       "183      Chinstrap      Dream            43.5           18.1   \n",
       "969      Chinstrap      Dream            49.6           18.2   \n",
       "635      Chinstrap      Dream            50.8           19.0   \n",
       "883      Chinstrap      Dream            50.2           18.7   \n",
       "\n",
       "         flipper_length_mm  body_mass_g     sex  year  body_mass_kg  \n",
       "id_code                                                              \n",
       "754                  181.0       3750.0    male  2007         3.750  \n",
       "214                  186.0       3800.0  female  2007         3.800  \n",
       "125                  195.0       3250.0  female  2007         3.250  \n",
       "859                    NaN          NaN     NaN  2007           NaN  \n",
       "381                  193.0       3450.0  female  2007         3.450  \n",
       "...                    ...          ...     ...   ...           ...  \n",
       "140                  207.0       4000.0    male  2009         4.000  \n",
       "183                  202.0       3400.0  female  2009         3.400  \n",
       "969                  193.0       3775.0    male  2009         3.775  \n",
       "635                  210.0       4100.0    male  2009         4.100  \n",
       "883                  198.0       3775.0  female  2009         3.775  \n",
       "\n",
       "[344 rows x 9 columns]"
      ]
     },
     "execution_count": 7,
     "metadata": {},
     "output_type": "execute_result"
    }
   ],
   "source": [
    "penguins"
   ]
  },
  {
   "cell_type": "markdown",
   "id": "a1713922-7025-4970-947d-3d5b9398713b",
   "metadata": {},
   "source": [
    "What was the bill length of the penguins with ID 677"
   ]
  },
  {
   "cell_type": "code",
   "execution_count": 8,
   "id": "c73d405f-6a3e-486a-bfdd-1054d1a99fb1",
   "metadata": {
    "tags": []
   },
   "outputs": [
    {
     "data": {
      "text/plain": [
       "39.5"
      ]
     },
     "execution_count": 8,
     "metadata": {},
     "output_type": "execute_result"
    }
   ],
   "source": [
    "# Check bill length of pengwing with ID 214\n",
    "penguins.at[214, 'bill_length_mm']"
   ]
  },
  {
   "cell_type": "code",
   "execution_count": 9,
   "id": "64127a14-58a1-468f-b994-5f39b2c44b52",
   "metadata": {
    "tags": []
   },
   "outputs": [
    {
     "data": {
      "text/plain": [
       "nan"
      ]
     },
     "execution_count": 9,
     "metadata": {},
     "output_type": "execute_result"
    }
   ],
   "source": [
    "penguins.at[859, 'bill_length_mm']"
   ]
  },
  {
   "cell_type": "code",
   "execution_count": 10,
   "id": "cd422b62-ccbe-47b7-92c5-dcecc93da0ba",
   "metadata": {
    "tags": []
   },
   "outputs": [
    {
     "data": {
      "text/plain": [
       "species                 Adelie\n",
       "island               Torgersen\n",
       "bill_length_mm            38.3\n",
       "bill_depth_mm              NaN\n",
       "flipper_length_mm          NaN\n",
       "body_mass_g                NaN\n",
       "sex                        NaN\n",
       "year                      2007\n",
       "body_mass_kg               NaN\n",
       "Name: 859, dtype: object"
      ]
     },
     "execution_count": 10,
     "metadata": {},
     "output_type": "execute_result"
    }
   ],
   "source": [
    "# Correct the nan at 859\n",
    "penguins.at[859, 'bill_length_mm'] = 38.3\n",
    "\n",
    "# Confirm\n",
    "penguins.loc[859]"
   ]
  },
  {
   "cell_type": "markdown",
   "id": "9d9f2c99-0414-437e-87c0-3c295ab0b308",
   "metadata": {},
   "source": [
    "#### If we want to access or update a single value by index position we use `iat[]` locator:\n",
    "\n",
    "Syntax:\n",
    "```\n",
    "df.iat[index_integer_location, column_integer_location]\n",
    "```\n",
    "\n",
    "Dynamically get the location of a single column\n",
    "```\n",
    "df.columns.get_loc('column_name')\n",
    "```"
   ]
  },
  {
   "cell_type": "markdown",
   "id": "a659f51e-66f3-4686-8f9b-e43148e41244",
   "metadata": {},
   "source": [
    "## Check-in\n",
    "\n",
    "a. Obtain the location of the `bill_length_mm` column programatically\n",
    "\n",
    "2. Use `iat[]` to access the bill length for the penguin with ID nnn (you may have a different ID) and revert it back to NA. Confirm the changes in your favorite way"
   ]
  },
  {
   "cell_type": "code",
   "execution_count": 14,
   "id": "b5c94c09-a7c9-4279-bb06-1ecbae0fb45a",
   "metadata": {
    "tags": []
   },
   "outputs": [
    {
     "name": "stdout",
     "output_type": "stream",
     "text": [
      "2\n",
      "3\n"
     ]
    }
   ],
   "source": [
    "# Locate column with bill length\n",
    "print(penguins.columns.get_loc('bill_length_mm'))\n",
    "\n",
    "# Locate index position of 859\n",
    "print(penguins.index.get_loc(859))\n"
   ]
  },
  {
   "cell_type": "code",
   "execution_count": 16,
   "id": "11487181-764d-46d2-a4ad-19289a112b1a",
   "metadata": {
    "tags": []
   },
   "outputs": [],
   "source": [
    "# Change specified value to 'NaN' using `.iat[row, column]`\n",
    "penguins.iat[3, 2] = np.nan"
   ]
  },
  {
   "cell_type": "code",
   "execution_count": 17,
   "id": "1caf9ece-2f3f-4633-b061-e014516290b5",
   "metadata": {
    "tags": []
   },
   "outputs": [
    {
     "data": {
      "text/html": [
       "<div>\n",
       "<style scoped>\n",
       "    .dataframe tbody tr th:only-of-type {\n",
       "        vertical-align: middle;\n",
       "    }\n",
       "\n",
       "    .dataframe tbody tr th {\n",
       "        vertical-align: top;\n",
       "    }\n",
       "\n",
       "    .dataframe thead th {\n",
       "        text-align: right;\n",
       "    }\n",
       "</style>\n",
       "<table border=\"1\" class=\"dataframe\">\n",
       "  <thead>\n",
       "    <tr style=\"text-align: right;\">\n",
       "      <th></th>\n",
       "      <th>species</th>\n",
       "      <th>island</th>\n",
       "      <th>bill_length_mm</th>\n",
       "      <th>bill_depth_mm</th>\n",
       "      <th>flipper_length_mm</th>\n",
       "      <th>body_mass_g</th>\n",
       "      <th>sex</th>\n",
       "      <th>year</th>\n",
       "      <th>body_mass_kg</th>\n",
       "    </tr>\n",
       "    <tr>\n",
       "      <th>id_code</th>\n",
       "      <th></th>\n",
       "      <th></th>\n",
       "      <th></th>\n",
       "      <th></th>\n",
       "      <th></th>\n",
       "      <th></th>\n",
       "      <th></th>\n",
       "      <th></th>\n",
       "      <th></th>\n",
       "    </tr>\n",
       "  </thead>\n",
       "  <tbody>\n",
       "    <tr>\n",
       "      <th>754</th>\n",
       "      <td>Adelie</td>\n",
       "      <td>Torgersen</td>\n",
       "      <td>39.1</td>\n",
       "      <td>18.7</td>\n",
       "      <td>181.0</td>\n",
       "      <td>3750.0</td>\n",
       "      <td>male</td>\n",
       "      <td>2007</td>\n",
       "      <td>3.75</td>\n",
       "    </tr>\n",
       "    <tr>\n",
       "      <th>214</th>\n",
       "      <td>Adelie</td>\n",
       "      <td>Torgersen</td>\n",
       "      <td>39.5</td>\n",
       "      <td>17.4</td>\n",
       "      <td>186.0</td>\n",
       "      <td>3800.0</td>\n",
       "      <td>female</td>\n",
       "      <td>2007</td>\n",
       "      <td>3.80</td>\n",
       "    </tr>\n",
       "    <tr>\n",
       "      <th>125</th>\n",
       "      <td>Adelie</td>\n",
       "      <td>Torgersen</td>\n",
       "      <td>40.3</td>\n",
       "      <td>18.0</td>\n",
       "      <td>195.0</td>\n",
       "      <td>3250.0</td>\n",
       "      <td>female</td>\n",
       "      <td>2007</td>\n",
       "      <td>3.25</td>\n",
       "    </tr>\n",
       "    <tr>\n",
       "      <th>859</th>\n",
       "      <td>Adelie</td>\n",
       "      <td>Torgersen</td>\n",
       "      <td>NaN</td>\n",
       "      <td>NaN</td>\n",
       "      <td>NaN</td>\n",
       "      <td>NaN</td>\n",
       "      <td>NaN</td>\n",
       "      <td>2007</td>\n",
       "      <td>NaN</td>\n",
       "    </tr>\n",
       "    <tr>\n",
       "      <th>381</th>\n",
       "      <td>Adelie</td>\n",
       "      <td>Torgersen</td>\n",
       "      <td>36.7</td>\n",
       "      <td>19.3</td>\n",
       "      <td>193.0</td>\n",
       "      <td>3450.0</td>\n",
       "      <td>female</td>\n",
       "      <td>2007</td>\n",
       "      <td>3.45</td>\n",
       "    </tr>\n",
       "  </tbody>\n",
       "</table>\n",
       "</div>"
      ],
      "text/plain": [
       "        species     island bill_length_mm  bill_depth_mm  flipper_length_mm  \\\n",
       "id_code                                                                       \n",
       "754      Adelie  Torgersen           39.1           18.7              181.0   \n",
       "214      Adelie  Torgersen           39.5           17.4              186.0   \n",
       "125      Adelie  Torgersen           40.3           18.0              195.0   \n",
       "859      Adelie  Torgersen            NaN            NaN                NaN   \n",
       "381      Adelie  Torgersen           36.7           19.3              193.0   \n",
       "\n",
       "         body_mass_g     sex  year  body_mass_kg  \n",
       "id_code                                           \n",
       "754           3750.0    male  2007          3.75  \n",
       "214           3800.0  female  2007          3.80  \n",
       "125           3250.0  female  2007          3.25  \n",
       "859              NaN     NaN  2007           NaN  \n",
       "381           3450.0  female  2007          3.45  "
      ]
     },
     "execution_count": 17,
     "metadata": {},
     "output_type": "execute_result"
    }
   ],
   "source": [
    "penguins.head()"
   ]
  },
  {
   "cell_type": "markdown",
   "id": "92b1c15a-79e5-4f97-ad43-c7697a9e8010",
   "metadata": {},
   "source": [
    "## Multiple values in a column\n",
    "\n",
    "### Using a condition\n",
    "\n",
    "Example:\n",
    "\n",
    "We want to classify the Palmer pengiuns such that:\n",
    "\n",
    "- Penguins with body mass < 3kg are small\n",
    "- Penguins with 3kg <= body mass < 5kg are medium\n",
    "- Penguins with 5kg <= body mass are large"
   ]
  },
  {
   "cell_type": "code",
   "execution_count": 18,
   "id": "999ab35d-b656-454d-81e1-3508000be3b9",
   "metadata": {
    "tags": []
   },
   "outputs": [
    {
     "data": {
      "text/html": [
       "<div>\n",
       "<style scoped>\n",
       "    .dataframe tbody tr th:only-of-type {\n",
       "        vertical-align: middle;\n",
       "    }\n",
       "\n",
       "    .dataframe tbody tr th {\n",
       "        vertical-align: top;\n",
       "    }\n",
       "\n",
       "    .dataframe thead th {\n",
       "        text-align: right;\n",
       "    }\n",
       "</style>\n",
       "<table border=\"1\" class=\"dataframe\">\n",
       "  <thead>\n",
       "    <tr style=\"text-align: right;\">\n",
       "      <th></th>\n",
       "      <th>species</th>\n",
       "      <th>island</th>\n",
       "      <th>bill_length_mm</th>\n",
       "      <th>bill_depth_mm</th>\n",
       "      <th>flipper_length_mm</th>\n",
       "      <th>body_mass_g</th>\n",
       "      <th>sex</th>\n",
       "      <th>year</th>\n",
       "      <th>body_mass_kg</th>\n",
       "      <th>size</th>\n",
       "    </tr>\n",
       "    <tr>\n",
       "      <th>id_code</th>\n",
       "      <th></th>\n",
       "      <th></th>\n",
       "      <th></th>\n",
       "      <th></th>\n",
       "      <th></th>\n",
       "      <th></th>\n",
       "      <th></th>\n",
       "      <th></th>\n",
       "      <th></th>\n",
       "      <th></th>\n",
       "    </tr>\n",
       "  </thead>\n",
       "  <tbody>\n",
       "    <tr>\n",
       "      <th>754</th>\n",
       "      <td>Adelie</td>\n",
       "      <td>Torgersen</td>\n",
       "      <td>39.1</td>\n",
       "      <td>18.7</td>\n",
       "      <td>181.0</td>\n",
       "      <td>3750.0</td>\n",
       "      <td>male</td>\n",
       "      <td>2007</td>\n",
       "      <td>3.75</td>\n",
       "      <td>medium</td>\n",
       "    </tr>\n",
       "    <tr>\n",
       "      <th>214</th>\n",
       "      <td>Adelie</td>\n",
       "      <td>Torgersen</td>\n",
       "      <td>39.5</td>\n",
       "      <td>17.4</td>\n",
       "      <td>186.0</td>\n",
       "      <td>3800.0</td>\n",
       "      <td>female</td>\n",
       "      <td>2007</td>\n",
       "      <td>3.80</td>\n",
       "      <td>medium</td>\n",
       "    </tr>\n",
       "    <tr>\n",
       "      <th>125</th>\n",
       "      <td>Adelie</td>\n",
       "      <td>Torgersen</td>\n",
       "      <td>40.3</td>\n",
       "      <td>18.0</td>\n",
       "      <td>195.0</td>\n",
       "      <td>3250.0</td>\n",
       "      <td>female</td>\n",
       "      <td>2007</td>\n",
       "      <td>3.25</td>\n",
       "      <td>medium</td>\n",
       "    </tr>\n",
       "    <tr>\n",
       "      <th>859</th>\n",
       "      <td>Adelie</td>\n",
       "      <td>Torgersen</td>\n",
       "      <td>NaN</td>\n",
       "      <td>NaN</td>\n",
       "      <td>NaN</td>\n",
       "      <td>NaN</td>\n",
       "      <td>NaN</td>\n",
       "      <td>2007</td>\n",
       "      <td>NaN</td>\n",
       "      <td>nan</td>\n",
       "    </tr>\n",
       "    <tr>\n",
       "      <th>381</th>\n",
       "      <td>Adelie</td>\n",
       "      <td>Torgersen</td>\n",
       "      <td>36.7</td>\n",
       "      <td>19.3</td>\n",
       "      <td>193.0</td>\n",
       "      <td>3450.0</td>\n",
       "      <td>female</td>\n",
       "      <td>2007</td>\n",
       "      <td>3.45</td>\n",
       "      <td>medium</td>\n",
       "    </tr>\n",
       "  </tbody>\n",
       "</table>\n",
       "</div>"
      ],
      "text/plain": [
       "        species     island bill_length_mm  bill_depth_mm  flipper_length_mm  \\\n",
       "id_code                                                                       \n",
       "754      Adelie  Torgersen           39.1           18.7              181.0   \n",
       "214      Adelie  Torgersen           39.5           17.4              186.0   \n",
       "125      Adelie  Torgersen           40.3           18.0              195.0   \n",
       "859      Adelie  Torgersen            NaN            NaN                NaN   \n",
       "381      Adelie  Torgersen           36.7           19.3              193.0   \n",
       "\n",
       "         body_mass_g     sex  year  body_mass_kg    size  \n",
       "id_code                                                   \n",
       "754           3750.0    male  2007          3.75  medium  \n",
       "214           3800.0  female  2007          3.80  medium  \n",
       "125           3250.0  female  2007          3.25  medium  \n",
       "859              NaN     NaN  2007           NaN     nan  \n",
       "381           3450.0  female  2007          3.45  medium  "
      ]
     },
     "execution_count": 18,
     "metadata": {},
     "output_type": "execute_result"
    }
   ],
   "source": [
    "# Create a list with the conditions\n",
    "conditions = [penguins.body_mass_kg < 3,\n",
    "             (3 <= penguins.body_mass_kg) & (penguins.body_mass_kg < 5),\n",
    "             5 <= penguins.body_mass_kg\n",
    "             ]\n",
    "\n",
    "# Create a list with the choices\n",
    "choices = ['small',\n",
    "           'medium',\n",
    "           'large']\n",
    "\n",
    "# Add the selection using np.select\n",
    "penguins['size'] = np.select(conditions,\n",
    "                             choices,\n",
    "                             default=np.nan) # Value for anything outside conditions\n",
    "\n",
    "# Display updated dataframe\n",
    "penguins.head()"
   ]
  },
  {
   "cell_type": "markdown",
   "id": "9a548e4d-a442-4f92-ba62-8925c3afe29b",
   "metadata": {
    "tags": []
   },
   "source": [
    "## Update values by selecting them\n",
    "\n",
    "We can do this with `loc` or `iloc` and assigning new values\n",
    "\n",
    "Syntax:\n",
    "```\n",
    "df.loc[row_selection, column_name] = new_values\n",
    "```\n",
    "\n",
    "Using `loc[]` in assignment modifies the data frame directly without the need for reassignment\n",
    "\n",
    "\n",
    "### Example\n",
    "Update the 'male' values in the sex column to 'M'"
   ]
  },
  {
   "cell_type": "code",
   "execution_count": 24,
   "id": "e0378a97-a3cd-44e4-8a57-12ac60e7809b",
   "metadata": {
    "tags": []
   },
   "outputs": [],
   "source": [
    "# Select rows with sex = male and simplify values\n",
    "penguins.loc[penguins.sex=='male', 'sex'] = 'M'"
   ]
  },
  {
   "cell_type": "code",
   "execution_count": 25,
   "id": "98218564-bc5a-4c3c-aac9-561994c11662",
   "metadata": {
    "tags": []
   },
   "outputs": [
    {
     "name": "stdout",
     "output_type": "stream",
     "text": [
      "['M' 'female' nan]\n"
     ]
    }
   ],
   "source": [
    "# Check changes in 'sex' column\n",
    "print(penguins.sex.unique())"
   ]
  },
  {
   "cell_type": "markdown",
   "id": "ef723f6d-3a64-4fe4-9fb6-22f7a6a9a9e6",
   "metadata": {},
   "source": [
    "### Best practices\n",
    "\n",
    "We want to update the 'female' values in 'sex' column to 'F'"
   ]
  },
  {
   "cell_type": "code",
   "execution_count": 28,
   "id": "f5a56dfe-8455-4973-a737-330df128b890",
   "metadata": {
    "tags": []
   },
   "outputs": [
    {
     "name": "stdout",
     "output_type": "stream",
     "text": [
      "['M' 'F' nan]\n"
     ]
    }
   ],
   "source": [
    "# Select rows where 'sex' is 'female' and change to 'F'\n",
    "penguins.loc[penguins.sex=='female', 'sex'] = 'F'\n",
    "\n",
    "print(penguins.sex.unique())"
   ]
  },
  {
   "cell_type": "markdown",
   "id": "9b29c673-a8e4-42a4-b2fa-b2f4881ffa00",
   "metadata": {},
   "source": [
    "**Avoid chained indexing** - do not put brackets right next to eachother. `[][]`\n",
    "use `.loc` instead"
   ]
  },
  {
   "cell_type": "markdown",
   "id": "3010108d-f993-4ac8-85fc-7884a880be3e",
   "metadata": {},
   "source": [
    "#### It is important to distinguish between *copies* and *views*\n",
    "#### **Views** are actualy subsets of the orginal data, when we update them, we are modifying the original data frame.\n",
    "\n",
    "#### **Copies** are unique objects, independent of our original data frames. WHen we update a copy we are not modying the orginal data frame."
   ]
  },
  {
   "cell_type": "markdown",
   "id": "fd10643c-b955-4e16-b29c-cbade033efb7",
   "metadata": {},
   "source": [
    "## Example\n",
    "We only want to use data from Biscoe island, after doing some analyses, we want to add a new column.\n"
   ]
  },
  {
   "cell_type": "code",
   "execution_count": 32,
   "id": "5859f130-c80a-4980-9418-56f9599d3c03",
   "metadata": {
    "tags": []
   },
   "outputs": [],
   "source": [
    "# Select penguins from Biscoe island\n",
    "biscoe = penguins[penguins.island == 'Biscoe'].copy()\n",
    "\n",
    "biscoe['sample_column'] = 100"
   ]
  },
  {
   "cell_type": "code",
   "execution_count": 34,
   "id": "5e640922-ed9b-442e-94dd-b8921989bd6c",
   "metadata": {
    "tags": []
   },
   "outputs": [
    {
     "data": {
      "text/plain": [
       "False"
      ]
     },
     "execution_count": 34,
     "metadata": {},
     "output_type": "execute_result"
    }
   ],
   "source": [
    "# Check if 'sample_column' is in penguins\n",
    "'sample_column' in penguins.columns"
   ]
  },
  {
   "cell_type": "code",
   "execution_count": null,
   "id": "3c9941d7-6e40-49ff-89e3-50a2b999e722",
   "metadata": {},
   "outputs": [],
   "source": []
  }
 ],
 "metadata": {
  "kernelspec": {
   "display_name": "EDS220",
   "language": "python",
   "name": "eds220-env"
  },
  "language_info": {
   "codemirror_mode": {
    "name": "ipython",
    "version": 3
   },
   "file_extension": ".py",
   "mimetype": "text/x-python",
   "name": "python",
   "nbconvert_exporter": "python",
   "pygments_lexer": "ipython3",
   "version": "3.11.4"
  }
 },
 "nbformat": 4,
 "nbformat_minor": 5
}
