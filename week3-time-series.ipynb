{
 "cells": [
  {
   "cell_type": "markdown",
   "id": "2f18c39c-f6e7-40f0-8cad-62bf74a8b78a",
   "metadata": {},
   "source": [
    "# 6) Time Series"
   ]
  },
  {
   "cell_type": "code",
   "execution_count": 1,
   "id": "b4126888-89e5-4714-84c1-2b2bcb961361",
   "metadata": {
    "tags": []
   },
   "outputs": [
    {
     "data": {
      "text/plain": [
       "Timestamp('2025-10-16 09:56:40')"
      ]
     },
     "execution_count": 1,
     "metadata": {},
     "output_type": "execute_result"
    }
   ],
   "source": [
    "import pandas as pd\n",
    "\n",
    "# create a time stamp\n",
    "pd.Timestamp(year=2025,\n",
    "             month=10,\n",
    "             day=16,\n",
    "             hour=9,\n",
    "             minute=56,\n",
    "             second=40)"
   ]
  },
  {
   "cell_type": "code",
   "execution_count": 5,
   "id": "b3f917c3-a980-43ba-98d1-6fda89309f00",
   "metadata": {
    "tags": []
   },
   "outputs": [
    {
     "data": {
      "text/plain": [
       "0   2020-10-16\n",
       "1   2020-10-17\n",
       "2   2020-10-18\n",
       "dtype: datetime64[ns]"
      ]
     },
     "execution_count": 5,
     "metadata": {},
     "output_type": "execute_result"
    }
   ],
   "source": [
    "pd.Series([pd.Timestamp(2020, 10, 16),\n",
    "           pd.Timestamp(2020, 10, 17),\n",
    "           pd.Timestamp(2020, 10, 18)])"
   ]
  },
  {
   "cell_type": "code",
   "execution_count": 6,
   "id": "de491a78-d198-4a3a-abeb-8d7f9d3597fc",
   "metadata": {
    "tags": []
   },
   "outputs": [
    {
     "data": {
      "text/html": [
       "<div>\n",
       "<style scoped>\n",
       "    .dataframe tbody tr th:only-of-type {\n",
       "        vertical-align: middle;\n",
       "    }\n",
       "\n",
       "    .dataframe tbody tr th {\n",
       "        vertical-align: top;\n",
       "    }\n",
       "\n",
       "    .dataframe thead th {\n",
       "        text-align: right;\n",
       "    }\n",
       "</style>\n",
       "<table border=\"1\" class=\"dataframe\">\n",
       "  <thead>\n",
       "    <tr style=\"text-align: right;\">\n",
       "      <th></th>\n",
       "      <th>STATION</th>\n",
       "      <th>STATION_NAME</th>\n",
       "      <th>DATE</th>\n",
       "      <th>HPCP</th>\n",
       "      <th>Measurement Flag</th>\n",
       "      <th>Quality Flag</th>\n",
       "    </tr>\n",
       "  </thead>\n",
       "  <tbody>\n",
       "    <tr>\n",
       "      <th>0</th>\n",
       "      <td>COOP:055881</td>\n",
       "      <td>NEDERLAND 5 NNW CO US</td>\n",
       "      <td>20000101 00:00</td>\n",
       "      <td>999.99</td>\n",
       "      <td>]</td>\n",
       "      <td></td>\n",
       "    </tr>\n",
       "    <tr>\n",
       "      <th>1</th>\n",
       "      <td>COOP:055881</td>\n",
       "      <td>NEDERLAND 5 NNW CO US</td>\n",
       "      <td>20000101 01:00</td>\n",
       "      <td>0.00</td>\n",
       "      <td>g</td>\n",
       "      <td></td>\n",
       "    </tr>\n",
       "    <tr>\n",
       "      <th>2</th>\n",
       "      <td>COOP:055881</td>\n",
       "      <td>NEDERLAND 5 NNW CO US</td>\n",
       "      <td>20000102 20:00</td>\n",
       "      <td>0.00</td>\n",
       "      <td></td>\n",
       "      <td>q</td>\n",
       "    </tr>\n",
       "    <tr>\n",
       "      <th>3</th>\n",
       "      <td>COOP:055881</td>\n",
       "      <td>NEDERLAND 5 NNW CO US</td>\n",
       "      <td>20000103 01:00</td>\n",
       "      <td>0.00</td>\n",
       "      <td></td>\n",
       "      <td>q</td>\n",
       "    </tr>\n",
       "    <tr>\n",
       "      <th>4</th>\n",
       "      <td>COOP:055881</td>\n",
       "      <td>NEDERLAND 5 NNW CO US</td>\n",
       "      <td>20000103 05:00</td>\n",
       "      <td>0.00</td>\n",
       "      <td></td>\n",
       "      <td>q</td>\n",
       "    </tr>\n",
       "  </tbody>\n",
       "</table>\n",
       "</div>"
      ],
      "text/plain": [
       "       STATION           STATION_NAME            DATE    HPCP  \\\n",
       "0  COOP:055881  NEDERLAND 5 NNW CO US  20000101 00:00  999.99   \n",
       "1  COOP:055881  NEDERLAND 5 NNW CO US  20000101 01:00    0.00   \n",
       "2  COOP:055881  NEDERLAND 5 NNW CO US  20000102 20:00    0.00   \n",
       "3  COOP:055881  NEDERLAND 5 NNW CO US  20000103 01:00    0.00   \n",
       "4  COOP:055881  NEDERLAND 5 NNW CO US  20000103 05:00    0.00   \n",
       "\n",
       "  Measurement Flag Quality Flag  \n",
       "0                ]               \n",
       "1                g               \n",
       "2                             q  \n",
       "3                             q  \n",
       "4                             q  "
      ]
     },
     "execution_count": 6,
     "metadata": {},
     "output_type": "execute_result"
    }
   ],
   "source": [
    "# Read in data \n",
    "URL = 'https://raw.githubusercontent.com/carmengg/eds-220-book/main/data/boulder_colorado_2013_hourly_precipitation.csv'\n",
    "precip = pd.read_csv(URL)\n",
    "\n",
    "precip.head()"
   ]
  },
  {
   "cell_type": "code",
   "execution_count": 7,
   "id": "31a8508a-c8a2-418f-af3c-47b2a5583d7a",
   "metadata": {
    "tags": []
   },
   "outputs": [
    {
     "data": {
      "text/plain": [
       "<Axes: >"
      ]
     },
     "execution_count": 7,
     "metadata": {},
     "output_type": "execute_result"
    },
    {
     "data": {
      "image/png": "[encoded data removed]",
      "text/plain": [
       "<Figure size 640x480 with 1 Axes>"
      ]
     },
     "metadata": {},
     "output_type": "display_data"
    }
   ],
   "source": [
    "precip.plot()"
   ]
  },
  {
   "cell_type": "markdown",
   "id": "a1b51a3a-84b0-4c43-8396-dd571ca9c391",
   "metadata": {},
   "source": [
    "## Read in the missing data values\n",
    "\n",
    "Metadata indicates missing values are 999.99\n",
    "We can directly read in this value as an NA value using `pd.read_csv`"
   ]
  },
  {
   "cell_type": "code",
   "execution_count": 8,
   "id": "eb88fa6b-58b6-4d98-aa6b-628f1b3df905",
   "metadata": {
    "tags": []
   },
   "outputs": [
    {
     "data": {
      "text/html": [
       "<div>\n",
       "<style scoped>\n",
       "    .dataframe tbody tr th:only-of-type {\n",
       "        vertical-align: middle;\n",
       "    }\n",
       "\n",
       "    .dataframe tbody tr th {\n",
       "        vertical-align: top;\n",
       "    }\n",
       "\n",
       "    .dataframe thead th {\n",
       "        text-align: right;\n",
       "    }\n",
       "</style>\n",
       "<table border=\"1\" class=\"dataframe\">\n",
       "  <thead>\n",
       "    <tr style=\"text-align: right;\">\n",
       "      <th></th>\n",
       "      <th>STATION</th>\n",
       "      <th>STATION_NAME</th>\n",
       "      <th>DATE</th>\n",
       "      <th>HPCP</th>\n",
       "      <th>Measurement Flag</th>\n",
       "      <th>Quality Flag</th>\n",
       "    </tr>\n",
       "  </thead>\n",
       "  <tbody>\n",
       "    <tr>\n",
       "      <th>0</th>\n",
       "      <td>COOP:055881</td>\n",
       "      <td>NEDERLAND 5 NNW CO US</td>\n",
       "      <td>20000101 00:00</td>\n",
       "      <td>NaN</td>\n",
       "      <td>]</td>\n",
       "      <td></td>\n",
       "    </tr>\n",
       "    <tr>\n",
       "      <th>1</th>\n",
       "      <td>COOP:055881</td>\n",
       "      <td>NEDERLAND 5 NNW CO US</td>\n",
       "      <td>20000101 01:00</td>\n",
       "      <td>0.0</td>\n",
       "      <td>g</td>\n",
       "      <td></td>\n",
       "    </tr>\n",
       "    <tr>\n",
       "      <th>2</th>\n",
       "      <td>COOP:055881</td>\n",
       "      <td>NEDERLAND 5 NNW CO US</td>\n",
       "      <td>20000102 20:00</td>\n",
       "      <td>0.0</td>\n",
       "      <td></td>\n",
       "      <td>q</td>\n",
       "    </tr>\n",
       "    <tr>\n",
       "      <th>3</th>\n",
       "      <td>COOP:055881</td>\n",
       "      <td>NEDERLAND 5 NNW CO US</td>\n",
       "      <td>20000103 01:00</td>\n",
       "      <td>0.0</td>\n",
       "      <td></td>\n",
       "      <td>q</td>\n",
       "    </tr>\n",
       "    <tr>\n",
       "      <th>4</th>\n",
       "      <td>COOP:055881</td>\n",
       "      <td>NEDERLAND 5 NNW CO US</td>\n",
       "      <td>20000103 05:00</td>\n",
       "      <td>0.0</td>\n",
       "      <td></td>\n",
       "      <td>q</td>\n",
       "    </tr>\n",
       "  </tbody>\n",
       "</table>\n",
       "</div>"
      ],
      "text/plain": [
       "       STATION           STATION_NAME            DATE  HPCP Measurement Flag  \\\n",
       "0  COOP:055881  NEDERLAND 5 NNW CO US  20000101 00:00   NaN                ]   \n",
       "1  COOP:055881  NEDERLAND 5 NNW CO US  20000101 01:00   0.0                g   \n",
       "2  COOP:055881  NEDERLAND 5 NNW CO US  20000102 20:00   0.0                    \n",
       "3  COOP:055881  NEDERLAND 5 NNW CO US  20000103 01:00   0.0                    \n",
       "4  COOP:055881  NEDERLAND 5 NNW CO US  20000103 05:00   0.0                    \n",
       "\n",
       "  Quality Flag  \n",
       "0               \n",
       "1               \n",
       "2            q  \n",
       "3            q  \n",
       "4            q  "
      ]
     },
     "execution_count": 8,
     "metadata": {},
     "output_type": "execute_result"
    }
   ],
   "source": [
    "# Read in CSV indicating NA values based on metadata\n",
    "precip = pd.read_csv(URL, na_values = [999.99] )\n",
    "precip.head()"
   ]
  },
  {
   "cell_type": "code",
   "execution_count": 10,
   "id": "ddd575cc-8d05-45c1-83d2-36d4af30a06e",
   "metadata": {
    "tags": []
   },
   "outputs": [
    {
     "data": {
      "text/plain": [
       "<Axes: >"
      ]
     },
     "execution_count": 10,
     "metadata": {},
     "output_type": "execute_result"
    },
    {
     "data": {
      "image/png": "[encoded data removed]",
      "text/plain": [
       "<Figure size 640x480 with 1 Axes>"
      ]
     },
     "metadata": {},
     "output_type": "display_data"
    }
   ],
   "source": [
    "precip.plot()"
   ]
  },
  {
   "cell_type": "markdown",
   "id": "37e1537a-fefb-4d88-8846-f1fb6427bbdf",
   "metadata": {},
   "source": [
    "## Convert strings into dates\n",
    "Notice `DATE` column is of type 'datetime':"
   ]
  },
  {
   "cell_type": "code",
   "execution_count": 11,
   "id": "9df70c84-a4f8-4bb3-bcdc-37827cc76a77",
   "metadata": {
    "tags": []
   },
   "outputs": [
    {
     "data": {
      "text/plain": [
       "STATION              object\n",
       "STATION_NAME         object\n",
       "DATE                 object\n",
       "HPCP                float64\n",
       "Measurement Flag     object\n",
       "Quality Flag         object\n",
       "dtype: object"
      ]
     },
     "execution_count": 11,
     "metadata": {},
     "output_type": "execute_result"
    }
   ],
   "source": [
    "# Check whether DATE column is of type datetime\n",
    "precip.dtypes"
   ]
  },
  {
   "cell_type": "code",
   "execution_count": 12,
   "id": "30ea962f-1b64-4952-a3de-d7c84e1e85d0",
   "metadata": {
    "tags": []
   },
   "outputs": [
    {
     "data": {
      "text/plain": [
       "0      2000-01-01 00:00:00\n",
       "1      2000-01-01 01:00:00\n",
       "2      2000-01-02 20:00:00\n",
       "3      2000-01-03 01:00:00\n",
       "4      2000-01-03 05:00:00\n",
       "               ...        \n",
       "9001   2013-12-22 01:00:00\n",
       "9002   2013-12-23 00:00:00\n",
       "9003   2013-12-23 02:00:00\n",
       "9004   2013-12-29 01:00:00\n",
       "9005   2013-12-31 00:00:00\n",
       "Name: DATE, Length: 9006, dtype: datetime64[ns]"
      ]
     },
     "execution_count": 12,
     "metadata": {},
     "output_type": "execute_result"
    }
   ],
   "source": [
    "# Convert DATE column to timestamps\n",
    "pd.to_datetime(precip['DATE'])\n",
    "# This doesn't update your dataframe"
   ]
  },
  {
   "cell_type": "code",
   "execution_count": 14,
   "id": "57dce7a1-be4c-4200-8743-d197de2b2830",
   "metadata": {
    "tags": []
   },
   "outputs": [
    {
     "data": {
      "text/plain": [
       "STATION                     object\n",
       "STATION_NAME                object\n",
       "DATE                datetime64[ns]\n",
       "HPCP                       float64\n",
       "Measurement Flag            object\n",
       "Quality Flag                object\n",
       "dtype: object"
      ]
     },
     "execution_count": 14,
     "metadata": {},
     "output_type": "execute_result"
    }
   ],
   "source": [
    "# This does update dataframe\n",
    "precip['DATE'] = pd.to_datetime(precip['DATE'])\n",
    "\n",
    "# Check types\n",
    "precip.dtypes"
   ]
  },
  {
   "cell_type": "code",
   "execution_count": 15,
   "id": "e2380b98-4960-4ea3-b8b3-4118f48ceba9",
   "metadata": {
    "tags": []
   },
   "outputs": [
    {
     "data": {
      "text/html": [
       "<div>\n",
       "<style scoped>\n",
       "    .dataframe tbody tr th:only-of-type {\n",
       "        vertical-align: middle;\n",
       "    }\n",
       "\n",
       "    .dataframe tbody tr th {\n",
       "        vertical-align: top;\n",
       "    }\n",
       "\n",
       "    .dataframe thead th {\n",
       "        text-align: right;\n",
       "    }\n",
       "</style>\n",
       "<table border=\"1\" class=\"dataframe\">\n",
       "  <thead>\n",
       "    <tr style=\"text-align: right;\">\n",
       "      <th></th>\n",
       "      <th>STATION</th>\n",
       "      <th>STATION_NAME</th>\n",
       "      <th>HPCP</th>\n",
       "      <th>Measurement Flag</th>\n",
       "      <th>Quality Flag</th>\n",
       "    </tr>\n",
       "    <tr>\n",
       "      <th>DATE</th>\n",
       "      <th></th>\n",
       "      <th></th>\n",
       "      <th></th>\n",
       "      <th></th>\n",
       "      <th></th>\n",
       "    </tr>\n",
       "  </thead>\n",
       "  <tbody>\n",
       "    <tr>\n",
       "      <th>2000-01-01 00:00:00</th>\n",
       "      <td>COOP:055881</td>\n",
       "      <td>NEDERLAND 5 NNW CO US</td>\n",
       "      <td>NaN</td>\n",
       "      <td>]</td>\n",
       "      <td></td>\n",
       "    </tr>\n",
       "    <tr>\n",
       "      <th>2000-01-01 01:00:00</th>\n",
       "      <td>COOP:055881</td>\n",
       "      <td>NEDERLAND 5 NNW CO US</td>\n",
       "      <td>0.0</td>\n",
       "      <td>g</td>\n",
       "      <td></td>\n",
       "    </tr>\n",
       "    <tr>\n",
       "      <th>2000-01-02 20:00:00</th>\n",
       "      <td>COOP:055881</td>\n",
       "      <td>NEDERLAND 5 NNW CO US</td>\n",
       "      <td>0.0</td>\n",
       "      <td></td>\n",
       "      <td>q</td>\n",
       "    </tr>\n",
       "    <tr>\n",
       "      <th>2000-01-03 01:00:00</th>\n",
       "      <td>COOP:055881</td>\n",
       "      <td>NEDERLAND 5 NNW CO US</td>\n",
       "      <td>0.0</td>\n",
       "      <td></td>\n",
       "      <td>q</td>\n",
       "    </tr>\n",
       "    <tr>\n",
       "      <th>2000-01-03 05:00:00</th>\n",
       "      <td>COOP:055881</td>\n",
       "      <td>NEDERLAND 5 NNW CO US</td>\n",
       "      <td>0.0</td>\n",
       "      <td></td>\n",
       "      <td>q</td>\n",
       "    </tr>\n",
       "  </tbody>\n",
       "</table>\n",
       "</div>"
      ],
      "text/plain": [
       "                         STATION           STATION_NAME  HPCP  \\\n",
       "DATE                                                            \n",
       "2000-01-01 00:00:00  COOP:055881  NEDERLAND 5 NNW CO US   NaN   \n",
       "2000-01-01 01:00:00  COOP:055881  NEDERLAND 5 NNW CO US   0.0   \n",
       "2000-01-02 20:00:00  COOP:055881  NEDERLAND 5 NNW CO US   0.0   \n",
       "2000-01-03 01:00:00  COOP:055881  NEDERLAND 5 NNW CO US   0.0   \n",
       "2000-01-03 05:00:00  COOP:055881  NEDERLAND 5 NNW CO US   0.0   \n",
       "\n",
       "                    Measurement Flag Quality Flag  \n",
       "DATE                                               \n",
       "2000-01-01 00:00:00                ]               \n",
       "2000-01-01 01:00:00                g               \n",
       "2000-01-02 20:00:00                             q  \n",
       "2000-01-03 01:00:00                             q  \n",
       "2000-01-03 05:00:00                             q  "
      ]
     },
     "execution_count": 15,
     "metadata": {},
     "output_type": "execute_result"
    }
   ],
   "source": [
    "# We want to set the `DATE` \n",
    "precip = precip.set_index('DATE')\n",
    "\n",
    "precip.head()"
   ]
  },
  {
   "cell_type": "markdown",
   "id": "2cd7f4a0-1eb4-4090-bcdd-584a3949caf8",
   "metadata": {},
   "source": [
    "## Read in dataset in specific format"
   ]
  },
  {
   "cell_type": "code",
   "execution_count": 16,
   "id": "0c171e53-4c50-41ab-8861-a4010a684589",
   "metadata": {
    "tags": []
   },
   "outputs": [
    {
     "data": {
      "text/plain": [
       "<bound method NDFrame.head of                          STATION           STATION_NAME  HPCP  \\\n",
       "DATE                                                            \n",
       "2000-01-01 00:00:00  COOP:055881  NEDERLAND 5 NNW CO US   NaN   \n",
       "2000-01-01 01:00:00  COOP:055881  NEDERLAND 5 NNW CO US   0.0   \n",
       "2000-01-02 20:00:00  COOP:055881  NEDERLAND 5 NNW CO US   0.0   \n",
       "2000-01-03 01:00:00  COOP:055881  NEDERLAND 5 NNW CO US   0.0   \n",
       "2000-01-03 05:00:00  COOP:055881  NEDERLAND 5 NNW CO US   0.0   \n",
       "...                          ...                    ...   ...   \n",
       "2013-12-22 01:00:00  COOP:050843        BOULDER 2 CO US   NaN   \n",
       "2013-12-23 00:00:00  COOP:050843        BOULDER 2 CO US   NaN   \n",
       "2013-12-23 02:00:00  COOP:050843        BOULDER 2 CO US   0.1   \n",
       "2013-12-29 01:00:00  COOP:050843        BOULDER 2 CO US   NaN   \n",
       "2013-12-31 00:00:00  COOP:050843        BOULDER 2 CO US   NaN   \n",
       "\n",
       "                    Measurement Flag Quality Flag  \n",
       "DATE                                               \n",
       "2000-01-01 00:00:00                ]               \n",
       "2000-01-01 01:00:00                g               \n",
       "2000-01-02 20:00:00                             q  \n",
       "2000-01-03 01:00:00                             q  \n",
       "2000-01-03 05:00:00                             q  \n",
       "...                              ...          ...  \n",
       "2013-12-22 01:00:00                [               \n",
       "2013-12-23 00:00:00                ]               \n",
       "2013-12-23 02:00:00                                \n",
       "2013-12-29 01:00:00                [               \n",
       "2013-12-31 00:00:00                ]               \n",
       "\n",
       "[9006 rows x 5 columns]>"
      ]
     },
     "execution_count": 16,
     "metadata": {},
     "output_type": "execute_result"
    }
   ],
   "source": [
    "precip = pd.read_csv(URL,\n",
    "                     na_values=[999.99],\n",
    "                     index_col=['DATE'],\n",
    "                     parse_dates=['DATE'])\n",
    "precip.head"
   ]
  },
  {
   "cell_type": "markdown",
   "id": "a1d05a6c-98ac-4060-aea7-d254f92ba3c2",
   "metadata": {},
   "source": [
    "## Subsetting by date\n",
    "\n",
    "We can use `.loc[year-month]` to select data from a specific year and month"
   ]
  },
  {
   "cell_type": "code",
   "execution_count": 17,
   "id": "fb8ce6fd-aabf-4310-808b-ec21c842f7db",
   "metadata": {
    "collapsed": true,
    "jupyter": {
     "outputs_hidden": true
    },
    "tags": []
   },
   "outputs": [
    {
     "data": {
      "text/html": [
       "<div>\n",
       "<style scoped>\n",
       "    .dataframe tbody tr th:only-of-type {\n",
       "        vertical-align: middle;\n",
       "    }\n",
       "\n",
       "    .dataframe tbody tr th {\n",
       "        vertical-align: top;\n",
       "    }\n",
       "\n",
       "    .dataframe thead th {\n",
       "        text-align: right;\n",
       "    }\n",
       "</style>\n",
       "<table border=\"1\" class=\"dataframe\">\n",
       "  <thead>\n",
       "    <tr style=\"text-align: right;\">\n",
       "      <th></th>\n",
       "      <th>STATION</th>\n",
       "      <th>STATION_NAME</th>\n",
       "      <th>HPCP</th>\n",
       "      <th>Measurement Flag</th>\n",
       "      <th>Quality Flag</th>\n",
       "    </tr>\n",
       "    <tr>\n",
       "      <th>DATE</th>\n",
       "      <th></th>\n",
       "      <th></th>\n",
       "      <th></th>\n",
       "      <th></th>\n",
       "      <th></th>\n",
       "    </tr>\n",
       "  </thead>\n",
       "  <tbody>\n",
       "    <tr>\n",
       "      <th>2013-09-01 00:00:00</th>\n",
       "      <td>COOP:055881</td>\n",
       "      <td>NEDERLAND 5 NNW CO US</td>\n",
       "      <td>NaN</td>\n",
       "      <td>]</td>\n",
       "      <td></td>\n",
       "    </tr>\n",
       "    <tr>\n",
       "      <th>2013-09-01 01:00:00</th>\n",
       "      <td>COOP:055881</td>\n",
       "      <td>NEDERLAND 5 NNW CO US</td>\n",
       "      <td>NaN</td>\n",
       "      <td>[</td>\n",
       "      <td></td>\n",
       "    </tr>\n",
       "    <tr>\n",
       "      <th>2013-09-01 00:00:00</th>\n",
       "      <td>COOP:050183</td>\n",
       "      <td>ALLENSPARK 2 SE CO US</td>\n",
       "      <td>NaN</td>\n",
       "      <td>]</td>\n",
       "      <td></td>\n",
       "    </tr>\n",
       "    <tr>\n",
       "      <th>2013-09-01 01:00:00</th>\n",
       "      <td>COOP:050183</td>\n",
       "      <td>ALLENSPARK 2 SE CO US</td>\n",
       "      <td>NaN</td>\n",
       "      <td>[</td>\n",
       "      <td></td>\n",
       "    </tr>\n",
       "    <tr>\n",
       "      <th>2013-09-01 00:00:00</th>\n",
       "      <td>COOP:055121</td>\n",
       "      <td>LONGMONT 6 NW CO US</td>\n",
       "      <td>NaN</td>\n",
       "      <td>}</td>\n",
       "      <td></td>\n",
       "    </tr>\n",
       "    <tr>\n",
       "      <th>...</th>\n",
       "      <td>...</td>\n",
       "      <td>...</td>\n",
       "      <td>...</td>\n",
       "      <td>...</td>\n",
       "      <td>...</td>\n",
       "    </tr>\n",
       "    <tr>\n",
       "      <th>2013-09-23 02:00:00</th>\n",
       "      <td>COOP:050843</td>\n",
       "      <td>BOULDER 2 CO US</td>\n",
       "      <td>0.2</td>\n",
       "      <td></td>\n",
       "      <td></td>\n",
       "    </tr>\n",
       "    <tr>\n",
       "      <th>2013-09-27 10:00:00</th>\n",
       "      <td>COOP:050843</td>\n",
       "      <td>BOULDER 2 CO US</td>\n",
       "      <td>0.1</td>\n",
       "      <td></td>\n",
       "      <td></td>\n",
       "    </tr>\n",
       "    <tr>\n",
       "      <th>2013-09-27 15:00:00</th>\n",
       "      <td>COOP:050843</td>\n",
       "      <td>BOULDER 2 CO US</td>\n",
       "      <td>0.1</td>\n",
       "      <td></td>\n",
       "      <td></td>\n",
       "    </tr>\n",
       "    <tr>\n",
       "      <th>2013-09-27 17:00:00</th>\n",
       "      <td>COOP:050843</td>\n",
       "      <td>BOULDER 2 CO US</td>\n",
       "      <td>0.1</td>\n",
       "      <td></td>\n",
       "      <td></td>\n",
       "    </tr>\n",
       "    <tr>\n",
       "      <th>2013-09-27 18:00:00</th>\n",
       "      <td>COOP:050843</td>\n",
       "      <td>BOULDER 2 CO US</td>\n",
       "      <td>0.1</td>\n",
       "      <td></td>\n",
       "      <td></td>\n",
       "    </tr>\n",
       "  </tbody>\n",
       "</table>\n",
       "<p>128 rows × 5 columns</p>\n",
       "</div>"
      ],
      "text/plain": [
       "                         STATION           STATION_NAME  HPCP  \\\n",
       "DATE                                                            \n",
       "2013-09-01 00:00:00  COOP:055881  NEDERLAND 5 NNW CO US   NaN   \n",
       "2013-09-01 01:00:00  COOP:055881  NEDERLAND 5 NNW CO US   NaN   \n",
       "2013-09-01 00:00:00  COOP:050183  ALLENSPARK 2 SE CO US   NaN   \n",
       "2013-09-01 01:00:00  COOP:050183  ALLENSPARK 2 SE CO US   NaN   \n",
       "2013-09-01 00:00:00  COOP:055121    LONGMONT 6 NW CO US   NaN   \n",
       "...                          ...                    ...   ...   \n",
       "2013-09-23 02:00:00  COOP:050843        BOULDER 2 CO US   0.2   \n",
       "2013-09-27 10:00:00  COOP:050843        BOULDER 2 CO US   0.1   \n",
       "2013-09-27 15:00:00  COOP:050843        BOULDER 2 CO US   0.1   \n",
       "2013-09-27 17:00:00  COOP:050843        BOULDER 2 CO US   0.1   \n",
       "2013-09-27 18:00:00  COOP:050843        BOULDER 2 CO US   0.1   \n",
       "\n",
       "                    Measurement Flag Quality Flag  \n",
       "DATE                                               \n",
       "2013-09-01 00:00:00                ]               \n",
       "2013-09-01 01:00:00                [               \n",
       "2013-09-01 00:00:00                ]               \n",
       "2013-09-01 01:00:00                [               \n",
       "2013-09-01 00:00:00                }               \n",
       "...                              ...          ...  \n",
       "2013-09-23 02:00:00                                \n",
       "2013-09-27 10:00:00                                \n",
       "2013-09-27 15:00:00                                \n",
       "2013-09-27 17:00:00                                \n",
       "2013-09-27 18:00:00                                \n",
       "\n",
       "[128 rows x 5 columns]"
      ]
     },
     "execution_count": 17,
     "metadata": {},
     "output_type": "execute_result"
    }
   ],
   "source": [
    "# Select precipitation data from September 2013\n",
    "precip.loc['2013-09']"
   ]
  },
  {
   "cell_type": "code",
   "execution_count": 19,
   "id": "6f6c427a-a5ed-4db3-9729-10a28278f1f1",
   "metadata": {
    "tags": []
   },
   "outputs": [
    {
     "data": {
      "text/plain": [
       "<Axes: xlabel='DATE'>"
      ]
     },
     "execution_count": 19,
     "metadata": {},
     "output_type": "execute_result"
    },
    {
     "data": {
      "image/png": "[encoded data removed]",
      "text/plain": [
       "<Figure size 640x480 with 1 Axes>"
      ]
     },
     "metadata": {},
     "output_type": "display_data"
    }
   ],
   "source": [
    "precip.loc['2013'].plot()"
   ]
  },
  {
   "cell_type": "markdown",
   "id": "70adab51-b0be-40b7-9d50-bbfff228c94b",
   "metadata": {},
   "source": [
    "## Resample\n",
    "\n",
    "Resampling a time series means converting a time series from one frequency to another. For example, monthly to yearly (downsampling) or weekly to daily (upsampling).\n",
    "\n",
    "We can resample with the `resample()` method. The simplest use is to call\n",
    "\n",
    "```\n",
    "df.resample(new_frequency).aggregator_function()\n",
    "```\n",
    "\n",
    "where: \n",
    " - `new_frequency`: sstring represing the new frequency to resample the data: 'D' for day, 'W' for week, 'Y' for year, 'M' for month\n",
    " - `aggregator_function()`: is the function we will use to aggreate the data in to the new frequency. For example. `max()`, `min()`, `sum()`, `average()`.\n",
    " \n",
    " ### Example\n",
    " \n",
    " Our 2013 precipitation data ha hourly frequqncy, we want to resample it to daily frequency (downsampling)"
   ]
  },
  {
   "cell_type": "code",
   "execution_count": 21,
   "id": "65baf895-76fb-4f3c-8190-e0c57e162df1",
   "metadata": {
    "tags": []
   },
   "outputs": [],
   "source": [
    "# Resample 2013 hourly data to daily frequency\n",
    "daily_precip_2013 = precip.loc['2013'].resample('D').sum()"
   ]
  },
  {
   "cell_type": "code",
   "execution_count": 25,
   "id": "6462748f-6666-43f5-8748-e7a482d1de8f",
   "metadata": {
    "tags": []
   },
   "outputs": [
    {
     "data": {
      "text/plain": [
       "<Axes: title={'center': 'Amount of Captain Crunch Sold in Boulder, CO'}, xlabel='DATE'>"
      ]
     },
     "execution_count": 25,
     "metadata": {},
     "output_type": "execute_result"
    },
    {
     "data": {
      "image/png": "[encoded data removed]",
      "text/plain": [
       "<Figure size 640x480 with 1 Axes>"
      ]
     },
     "metadata": {},
     "output_type": "display_data"
    }
   ],
   "source": [
    "daily_precip_2013.plot(title = 'Amount of Captain Crunch Sold in Boulder, CO')"
   ]
  },
  {
   "cell_type": "code",
   "execution_count": null,
   "id": "64d27b0a-e3a7-42da-945e-13dab2827b43",
   "metadata": {},
   "outputs": [],
   "source": []
  }
 ],
 "metadata": {
  "kernelspec": {
   "display_name": "EDS220",
   "language": "python",
   "name": "eds220-env"
  },
  "language_info": {
   "codemirror_mode": {
    "name": "ipython",
    "version": 3
   },
   "file_extension": ".py",
   "mimetype": "text/x-python",
   "name": "python",
   "nbconvert_exporter": "python",
   "pygments_lexer": "ipython3",
   "version": "3.11.4"
  }
 },
 "nbformat": 4,
 "nbformat_minor": 5
}
