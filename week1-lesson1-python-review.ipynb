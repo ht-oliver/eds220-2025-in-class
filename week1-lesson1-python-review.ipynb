{
 "cells": [
  {
   "cell_type": "markdown",
   "id": "eea0697f-1bed-446f-8bf5-ebaaafd08029",
   "metadata": {},
   "source": [
    "# Python review\n",
    "\n",
    "Goals:\n",
    "- recall basic Python vocabulary\n",
    "- practice markdown\n",
    "\n",
    "## Libraries and packages\n",
    "\n",
    "**library**: a collection of code that we can use to perform specific tasks in our programs.\n",
    "\n",
    "**NumPy**:\n",
    "- core library for numerical computing in Python\n",
    "- many other libraries use NumPy arrays as building blocks\n",
    "- computations on NumPy are optimized for speed and memory usage\n",
    "\n",
    "\n",
    "Let's import NumPy with **standard abbreviation**"
   ]
  },
  {
   "cell_type": "code",
   "execution_count": 2,
   "id": "d873a629-3977-4b3a-8433-6fce3ceb4516",
   "metadata": {
    "tags": []
   },
   "outputs": [],
   "source": [
    "import numpy as np"
   ]
  },
  {
   "cell_type": "markdown",
   "id": "6be9c71f-18eb-4752-b827-44088317fad4",
   "metadata": {},
   "source": [
    "## Variables \n",
    "\n",
    "**variable**: a name we assign to a particular object in Python\n",
    "\n",
    "Example:"
   ]
  },
  {
   "cell_type": "code",
   "execution_count": 3,
   "id": "ff7d4059-ac55-4aac-b489-de54fa5544ea",
   "metadata": {
    "tags": []
   },
   "outputs": [],
   "source": [
    "# Assign a small array to a variable a\n",
    "a = np.array ([[1,1,2], [3,5,8]])"
   ]
  },
  {
   "cell_type": "code",
   "execution_count": 4,
   "id": "229fdf44-5c54-40c7-9b01-6a9e71a6fe4b",
   "metadata": {
    "tags": []
   },
   "outputs": [
    {
     "data": {
      "text/plain": [
       "array([[1, 1, 2],\n",
       "       [3, 5, 8]])"
      ]
     },
     "execution_count": 4,
     "metadata": {},
     "output_type": "execute_result"
    }
   ],
   "source": [
    "# Run cell with the variable name to show the value\n",
    "a"
   ]
  },
  {
   "cell_type": "code",
   "execution_count": 5,
   "id": "8e368e36-8c36-43d6-9666-bcfcf4f6fa15",
   "metadata": {
    "tags": []
   },
   "outputs": [
    {
     "name": "stdout",
     "output_type": "stream",
     "text": [
      "[[1 1 2]\n",
      " [3 5 8]]\n"
     ]
    }
   ],
   "source": [
    "# Use 'print' function to print the value\n",
    "print(a)"
   ]
  },
  {
   "cell_type": "markdown",
   "id": "3f72460a-8efd-41de-8505-03c814a0de91",
   "metadata": {},
   "source": [
    "## Objects\n",
    "\n",
    "**object** (informally speaking) is a bundle of *properties* and *action* about something specific.\n",
    "\n",
    "Example:\n",
    "\n",
    "Object: data frame\n",
    "\n",
    "Propeties: number rows, names of the columns, date created\n",
    "\n",
    "Actions: selecting a specific row, adding a new column\n",
    "\n",
    "A variable is the name we give a specific object, and the same object can be referenced by different variables.\n",
    "\n",
    "In practice, we can often use variable and object interchangeably.\n",
    "\n",
    "\n",
    "## Types\n",
    "Every object in Python has a **type**. The type tells us what kind of object it is.\n",
    "\n",
    "We can also call the type of an object, the **class** of an object and they both mean what kind of object we have."
   ]
  },
  {
   "cell_type": "code",
   "execution_count": 6,
   "id": "1b18ccf0-c54f-4015-913a-d273af218123",
   "metadata": {},
   "outputs": [
    {
     "name": "stdout",
     "output_type": "stream",
     "text": [
      "[[1 1 2]\n",
      " [3 5 8]]\n"
     ]
    },
    {
     "data": {
      "text/plain": [
       "numpy.ndarray"
      ]
     },
     "execution_count": 6,
     "metadata": {},
     "output_type": "execute_result"
    }
   ],
   "source": [
    "print(a)\n",
    "\n",
    "# Check the type/class of a variable/object bu using the `type` function\n",
    "type(a)"
   ]
  },
  {
   "cell_type": "code",
   "execution_count": 7,
   "id": "fe77dcc3-d66f-44ee-8001-b8fe7e905aa6",
   "metadata": {
    "tags": []
   },
   "outputs": [
    {
     "name": "stdout",
     "output_type": "stream",
     "text": [
      "1\n"
     ]
    },
    {
     "data": {
      "text/plain": [
       "numpy.int64"
      ]
     },
     "execution_count": 7,
     "metadata": {},
     "output_type": "execute_result"
    }
   ],
   "source": [
    "print(a[0,0])\n",
    "\n",
    "# Check the type on an entry on the arraw by indexing\n",
    "type(a[0,0])"
   ]
  },
  {
   "cell_type": "markdown",
   "id": "470a537f-9155-41bf-842e-553dcc451cd5",
   "metadata": {},
   "source": [
    "Notice that `type(a[0,0])` is `numpy.int64` and not juse the standard Python integer type. This is telling us that 1 is an integer stored as a 64-bit number."
   ]
  },
  {
   "cell_type": "code",
   "execution_count": 9,
   "id": "9c052ae7-c79a-4069-9147-492894e03837",
   "metadata": {
    "tags": []
   },
   "outputs": [
    {
     "name": "stdout",
     "output_type": "stream",
     "text": [
      "5\n"
     ]
    }
   ],
   "source": [
    "print(a[1,1])"
   ]
  },
  {
   "cell_type": "markdown",
   "id": "69c402a1-9988-4ee6-a1b6-0a05b8834c43",
   "metadata": {},
   "source": [
    "## Functions\n",
    "\n",
    "`print` was our first example of a python **function**\n",
    "\n",
    "Functions take in. aset of **arguments** and those arguments create an **output**.\n",
    "\n",
    "argument = parameter.\n",
    "\n",
    "We can ask infromation about a function by executing `?function`"
   ]
  },
  {
   "cell_type": "code",
   "execution_count": 10,
   "id": "45ad39e1-6118-4ded-bb31-e13246d24ec8",
   "metadata": {
    "tags": []
   },
   "outputs": [
    {
     "data": {
      "text/plain": [
       "\u001b[0;31mSignature:\u001b[0m \u001b[0mprint\u001b[0m\u001b[0;34m(\u001b[0m\u001b[0;34m*\u001b[0m\u001b[0margs\u001b[0m\u001b[0;34m,\u001b[0m \u001b[0msep\u001b[0m\u001b[0;34m=\u001b[0m\u001b[0;34m' '\u001b[0m\u001b[0;34m,\u001b[0m \u001b[0mend\u001b[0m\u001b[0;34m=\u001b[0m\u001b[0;34m'\\n'\u001b[0m\u001b[0;34m,\u001b[0m \u001b[0mfile\u001b[0m\u001b[0;34m=\u001b[0m\u001b[0;32mNone\u001b[0m\u001b[0;34m,\u001b[0m \u001b[0mflush\u001b[0m\u001b[0;34m=\u001b[0m\u001b[0;32mFalse\u001b[0m\u001b[0;34m)\u001b[0m\u001b[0;34m\u001b[0m\u001b[0;34m\u001b[0m\u001b[0m\n",
       "\u001b[0;31mDocstring:\u001b[0m\n",
       "Prints the values to a stream, or to sys.stdout by default.\n",
       "\n",
       "sep\n",
       "  string inserted between values, default a space.\n",
       "end\n",
       "  string appended after the last value, default a newline.\n",
       "file\n",
       "  a file-like object (stream); defaults to the current sys.stdout.\n",
       "flush\n",
       "  whether to forcibly flush the stream.\n",
       "\u001b[0;31mType:\u001b[0m      builtin_function_or_method"
      ]
     },
     "metadata": {},
     "output_type": "display_data"
    }
   ],
   "source": [
    "?print\n"
   ]
  },
  {
   "cell_type": "markdown",
   "id": "5c70c245-d911-4fc9-8459-26c0b9917f84",
   "metadata": {},
   "source": [
    "This information is a **docstring**\n",
    "\n",
    "A fucntion has two types of arguments:\n",
    "\n",
    "- **non-optional argument**: arguments *you* need to specify for the funciton to do something\n",
    "\n",
    "- **optional argument**: arguments that are pre-filled with a default value by the function. You can ocerride them. Optional arguments appear inside the parenthesis in the form `optional_argument=default_value`"
   ]
  },
  {
   "cell_type": "code",
   "execution_count": 11,
   "id": "4023507e-a301-4436-aede-348d245bc8b8",
   "metadata": {
    "tags": []
   },
   "outputs": [
    {
     "name": "stdout",
     "output_type": "stream",
     "text": [
      "changing the default end argument :)"
     ]
    }
   ],
   "source": [
    "print('changing the default end argument', end = ' :)')"
   ]
  },
  {
   "cell_type": "markdown",
   "id": "882fc35d-2434-42b7-8de4-b4749b5509d9",
   "metadata": {},
   "source": [
    "## Attributes & Methods\n",
    "\n",
    "An object in python has attributes and methods.\n",
    "\n",
    "- **attribute**: a property of an object, some piece of information about it\n",
    "- **method**: a procedure associated with the object, an action where the main ingredient is the object.\n",
    "\n",
    "\n",
    "### Check-in\n",
    "\n",
    "Fish attributes:\n",
    "-length, color, species\n",
    "\n",
    "Fish methods:\n",
    "- die(), bite(), swim()\n",
    "\n",
    "**Example**\n",
    "Attributes for `numpy.arrays`\n",
    "\n",
    "We can access a variable's attributes and methods by adding a period `.` at the end of the variable's name.\n",
    "`variable.method()` or `variable.attribute`"
   ]
  },
  {
   "cell_type": "code",
   "execution_count": 12,
   "id": "7647dc73-b603-4547-be8d-a132ce16ce1a",
   "metadata": {
    "tags": []
   },
   "outputs": [
    {
     "data": {
      "text/plain": [
       "(2, 3)"
      ]
     },
     "execution_count": 12,
     "metadata": {},
     "output_type": "execute_result"
    }
   ],
   "source": [
    "a.shape"
   ]
  },
  {
   "cell_type": "code",
   "execution_count": 14,
   "id": "7a9cd529-ad56-4b37-8f4a-5ef85a23bcb0",
   "metadata": {
    "tags": []
   },
   "outputs": [
    {
     "data": {
      "text/plain": [
       "tuple"
      ]
     },
     "execution_count": 14,
     "metadata": {},
     "output_type": "execute_result"
    }
   ],
   "source": [
    "type(a.shape)"
   ]
  },
  {
   "cell_type": "code",
   "execution_count": 15,
   "id": "f26160b7-117f-47cd-921d-c68b33b843c2",
   "metadata": {
    "tags": []
   },
   "outputs": [
    {
     "data": {
      "text/plain": [
       "array([1, 1, 2])"
      ]
     },
     "execution_count": 15,
     "metadata": {},
     "output_type": "execute_result"
    }
   ],
   "source": [
    "# Methods examples\n",
    "# min() returns the minimum value along a specified axis\n",
    "a.min(axis = 0)"
   ]
  },
  {
   "cell_type": "markdown",
   "id": "5b8213d2-621a-40f5-9b5f-54b7302d218a",
   "metadata": {},
   "source": [
    "## Check-in\n",
    "We can also call the `min` method without any parameters:\n"
   ]
  },
  {
   "cell_type": "code",
   "execution_count": 16,
   "id": "ef3de168-cdd0-4101-85f8-840f89d3601d",
   "metadata": {
    "tags": []
   },
   "outputs": [
    {
     "data": {
      "text/plain": [
       "1"
      ]
     },
     "execution_count": 16,
     "metadata": {},
     "output_type": "execute_result"
    }
   ],
   "source": [
    "a.min()"
   ]
  },
  {
   "cell_type": "markdown",
   "id": "19c03b7b-3a2a-4107-9aa0-096c9e49146b",
   "metadata": {},
   "source": [
    "Remember: methods are functions associated with an object. "
   ]
  },
  {
   "cell_type": "code",
   "execution_count": 17,
   "id": "1c3ea7e9-2f97-4d43-ac48-bd77df54df83",
   "metadata": {
    "tags": []
   },
   "outputs": [
    {
     "data": {
      "text/plain": [
       "builtin_function_or_method"
      ]
     },
     "execution_count": 17,
     "metadata": {},
     "output_type": "execute_result"
    }
   ],
   "source": [
    "type(a.min)"
   ]
  },
  {
   "cell_type": "markdown",
   "id": "c142246b-7be4-4d5d-8e76-ce7b0dce922f",
   "metadata": {},
   "source": [
    "## Exercise\n",
    "\n",
    "1. Read the `print` function help. What is the type of the argument `sep`? Is this an optional or non-optional argument? Why?\n",
    "The type is 'string', you can tell because it's surrounded by quotes. Optional - entering nothing defaults to ` `\n",
    "\n",
    "2. Create two new variables, one with the integer value 77 and another one with the string 99.\n",
    "`var1 = 77`\n",
    "`var2 = '99'`\n",
    "\n",
    "3. Use your variables to print `77%99%77` by changing the value of one of the optional arguments in `print`\n",
    "\n",
    "`print(var1, var2, var1, sep='%')`"
   ]
  },
  {
   "cell_type": "code",
   "execution_count": 23,
   "id": "8a5c4af4-284b-4852-8c47-fd9ae87e22ae",
   "metadata": {
    "tags": []
   },
   "outputs": [
    {
     "name": "stdout",
     "output_type": "stream",
     "text": [
      "77%99%77\n"
     ]
    },
    {
     "data": {
      "text/plain": [
       "\u001b[0;31mSignature:\u001b[0m \u001b[0mprint\u001b[0m\u001b[0;34m(\u001b[0m\u001b[0;34m*\u001b[0m\u001b[0margs\u001b[0m\u001b[0;34m,\u001b[0m \u001b[0msep\u001b[0m\u001b[0;34m=\u001b[0m\u001b[0;34m' '\u001b[0m\u001b[0;34m,\u001b[0m \u001b[0mend\u001b[0m\u001b[0;34m=\u001b[0m\u001b[0;34m'\\n'\u001b[0m\u001b[0;34m,\u001b[0m \u001b[0mfile\u001b[0m\u001b[0;34m=\u001b[0m\u001b[0;32mNone\u001b[0m\u001b[0;34m,\u001b[0m \u001b[0mflush\u001b[0m\u001b[0;34m=\u001b[0m\u001b[0;32mFalse\u001b[0m\u001b[0;34m)\u001b[0m\u001b[0;34m\u001b[0m\u001b[0;34m\u001b[0m\u001b[0m\n",
       "\u001b[0;31mDocstring:\u001b[0m\n",
       "Prints the values to a stream, or to sys.stdout by default.\n",
       "\n",
       "sep\n",
       "  string inserted between values, default a space.\n",
       "end\n",
       "  string appended after the last value, default a newline.\n",
       "file\n",
       "  a file-like object (stream); defaults to the current sys.stdout.\n",
       "flush\n",
       "  whether to forcibly flush the stream.\n",
       "\u001b[0;31mType:\u001b[0m      builtin_function_or_method"
      ]
     },
     "metadata": {},
     "output_type": "display_data"
    }
   ],
   "source": [
    "?print\n",
    "\n",
    "var1 = 77\n",
    "var2 = '99'\n",
    "\n",
    "print(var1, var2, var1, sep='%')"
   ]
  },
  {
   "cell_type": "code",
   "execution_count": null,
   "id": "a26f6c90-5d79-460a-ab8a-0a24c523abd5",
   "metadata": {},
   "outputs": [],
   "source": []
  }
 ],
 "metadata": {
  "kernelspec": {
   "display_name": "EDS220",
   "language": "python",
   "name": "eds220-env"
  },
  "language_info": {
   "codemirror_mode": {
    "name": "ipython",
    "version": 3
   },
   "file_extension": ".py",
   "mimetype": "text/x-python",
   "name": "python",
   "nbconvert_exporter": "python",
   "pygments_lexer": "ipython3",
   "version": "3.11.4"
  }
 },
 "nbformat": 4,
 "nbformat_minor": 5
}
